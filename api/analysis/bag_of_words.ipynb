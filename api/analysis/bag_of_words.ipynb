{
 "cells": [
  {
   "cell_type": "code",
   "execution_count": 1,
   "metadata": {},
   "outputs": [
    {
     "name": "stderr",
     "output_type": "stream",
     "text": [
      "/home/ubuntu/anaconda3/envs/pytorch_p36/lib/python3.6/site-packages/matplotlib/__init__.py:1067: UserWarning: Duplicate key in file \"/home/ubuntu/.config/matplotlib/matplotlibrc\", line #2\n",
      "  (fname, cnt))\n",
      "/home/ubuntu/anaconda3/envs/pytorch_p36/lib/python3.6/site-packages/matplotlib/__init__.py:1067: UserWarning: Duplicate key in file \"/home/ubuntu/.config/matplotlib/matplotlibrc\", line #3\n",
      "  (fname, cnt))\n"
     ]
    }
   ],
   "source": [
    "import pandas as pd"
   ]
  },
  {
   "cell_type": "code",
   "execution_count": 4,
   "metadata": {},
   "outputs": [],
   "source": [
    "df = pd.read_table('./Emobank-master/corpus/raw.tsv')"
   ]
  },
  {
   "cell_type": "code",
   "execution_count": 6,
   "metadata": {},
   "outputs": [],
   "source": [
    "from collections import Counter\n",
    "import re"
   ]
  },
  {
   "cell_type": "code",
   "execution_count": 10,
   "metadata": {},
   "outputs": [
    {
     "data": {
      "text/plain": [
       "Counter({'aaa': 1, 'bbb': 3, 'abc': 1})"
      ]
     },
     "execution_count": 10,
     "metadata": {},
     "output_type": "execute_result"
    }
   ],
   "source": [
    "dataA = ['aaa', 'bbb', 'ccc', 'aaa', 'ddd']\n",
    "dataB = ['aaa', 'bbb', 'bbb', 'bbb', 'abc']\n",
    "\n",
    "counterA = Counter()\n",
    "counterB = Counter(dataB)\n",
    "\n",
    "counter = counterA + counterB  # 頻度を足し合わせられる\n",
    "counter"
   ]
  },
  {
   "cell_type": "code",
   "execution_count": 11,
   "metadata": {},
   "outputs": [
    {
     "data": {
      "text/plain": [
       "['I', \"can't\", 'believe', 'I', 'wrote', 'all', 'that', 'last', 'year']"
      ]
     },
     "execution_count": 11,
     "metadata": {},
     "output_type": "execute_result"
    }
   ],
   "source": [
    "sample = \"I can't believe I wrote all that last year.\"\n",
    "p = re.compile(r'[A-Za-z][A-Za-z\\'0-9]*')\n",
    "p.findall(sample)"
   ]
  },
  {
   "cell_type": "code",
   "execution_count": 12,
   "metadata": {},
   "outputs": [],
   "source": [
    "word_count = Counter()\n",
    "for index, row in df.iterrows():\n",
    "    w_list = p.findall(row['sentence'])\n",
    "    cnt = Counter(w_list)\n",
    "    word_count = word_count + cnt"
   ]
  },
  {
   "cell_type": "code",
   "execution_count": 13,
   "metadata": {
    "scrolled": true
   },
   "outputs": [
    {
     "data": {
      "text/plain": [
       "[('the', 7648),\n",
       " ('of', 4246),\n",
       " ('to', 4200),\n",
       " ('and', 4108),\n",
       " ('a', 3526),\n",
       " ('in', 2684),\n",
       " ('I', 1656),\n",
       " ('is', 1654),\n",
       " ('that', 1585),\n",
       " ('for', 1437),\n",
       " ('you', 1091),\n",
       " ('on', 1068),\n",
       " ('The', 1022),\n",
       " ('it', 1020),\n",
       " ('with', 1004),\n",
       " ('was', 930),\n",
       " ('as', 853),\n",
       " ('be', 755),\n",
       " ('from', 710),\n",
       " ('at', 706),\n",
       " ('are', 702),\n",
       " ('by', 621),\n",
       " ('this', 620),\n",
       " ('have', 604),\n",
       " ('not', 582),\n",
       " ('s', 582),\n",
       " ('will', 566),\n",
       " ('he', 565),\n",
       " ('an', 528),\n",
       " ('his', 491),\n",
       " ('or', 464),\n",
       " ('we', 463),\n",
       " ('but', 454),\n",
       " ('said', 452),\n",
       " ('your', 449),\n",
       " ('one', 422),\n",
       " ('had', 400),\n",
       " ('all', 397),\n",
       " ('my', 390),\n",
       " ('more', 384),\n",
       " ('me', 371),\n",
       " ('can', 369),\n",
       " ('has', 369),\n",
       " ('their', 368),\n",
       " ('up', 358),\n",
       " ('they', 349),\n",
       " ('were', 344),\n",
       " ('our', 327),\n",
       " ('her', 327),\n",
       " ('its', 326),\n",
       " ('would', 319),\n",
       " ('about', 318),\n",
       " ('who', 311),\n",
       " ('which', 305),\n",
       " ('out', 301),\n",
       " ('like', 301),\n",
       " ('It', 289),\n",
       " ('do', 270),\n",
       " ('than', 261),\n",
       " ('been', 256),\n",
       " ('people', 253),\n",
       " ('other', 247),\n",
       " ('In', 246),\n",
       " ('A', 245),\n",
       " ('so', 240),\n",
       " ('what', 239),\n",
       " ('no', 235),\n",
       " ('He', 229),\n",
       " ('into', 222),\n",
       " ('when', 221),\n",
       " ('This', 217),\n",
       " ('time', 216),\n",
       " ('there', 210),\n",
       " ('she', 210),\n",
       " ('him', 207),\n",
       " ('if', 206),\n",
       " ('us', 196),\n",
       " ('only', 195),\n",
       " ('also', 194),\n",
       " ('them', 194),\n",
       " ('You', 192),\n",
       " ('just', 191),\n",
       " ('help', 191),\n",
       " ('some', 190),\n",
       " ('could', 190),\n",
       " ('But', 187),\n",
       " ('over', 187),\n",
       " ('first', 183),\n",
       " ('see', 177),\n",
       " ('We', 177),\n",
       " ('new', 177),\n",
       " ('back', 174),\n",
       " ('make', 170),\n",
       " ('year', 169),\n",
       " ('t', 169),\n",
       " ('way', 168),\n",
       " ('Hong', 165),\n",
       " ('Kong', 165),\n",
       " ('two', 163),\n",
       " ('now', 161)]"
      ]
     },
     "execution_count": 13,
     "metadata": {},
     "output_type": "execute_result"
    }
   ],
   "source": [
    "word_count.most_common(100)"
   ]
  },
  {
   "cell_type": "code",
   "execution_count": 14,
   "metadata": {},
   "outputs": [],
   "source": [
    "import nltk"
   ]
  },
  {
   "cell_type": "code",
   "execution_count": 15,
   "metadata": {},
   "outputs": [],
   "source": [
    "tokens = []\n",
    "for index, row in df.iterrows():\n",
    "    w_list = p.findall(row['sentence'])\n",
    "    # w_list = nltk.word_tokenize(row['sentence'])\n",
    "    tokens.append(w_list)\n",
    "\n",
    "from itertools import chain\n",
    "tokens = list(chain.from_iterable(tokens))\n",
    "text = nltk.Text(tokens)"
   ]
  },
  {
   "cell_type": "code",
   "execution_count": 16,
   "metadata": {},
   "outputs": [],
   "source": [
    "fdist = nltk.FreqDist(w.lower() for w in text)"
   ]
  },
  {
   "cell_type": "code",
   "execution_count": 17,
   "metadata": {},
   "outputs": [],
   "source": [
    "%matplotlib inline\n",
    "import matplotlib.pyplot as plt"
   ]
  },
  {
   "cell_type": "code",
   "execution_count": 18,
   "metadata": {
    "scrolled": true
   },
   "outputs": [
    {
     "data": {
      "image/png": "[encoded data removed]",
      "text/plain": [
       "<Figure size 1152x432 with 1 Axes>"
      ]
     },
     "metadata": {},
     "output_type": "display_data"
    }
   ],
   "source": [
    "plt.figure(figsize=(16, 6))\n",
    "# 累積カウント\n",
    "fdist.plot(50, cumulative=True)"
   ]
  },
  {
   "cell_type": "code",
   "execution_count": 19,
   "metadata": {},
   "outputs": [
    {
     "data": {
      "image/png": "[encoded data removed]",
      "text/plain": [
       "<Figure size 1152x432 with 1 Axes>"
      ]
     },
     "metadata": {},
     "output_type": "display_data"
    }
   ],
   "source": [
    "plt.figure(figsize=(16, 6))\n",
    "# 出現回数\n",
    "fdist.plot(50, cumulative=False)"
   ]
  },
  {
   "cell_type": "code",
   "execution_count": 20,
   "metadata": {},
   "outputs": [],
   "source": [
    "stopwords = nltk.corpus.stopwords.words('english')\n",
    "# symbol = [\"'\", '\"', ':', ';', '.', ',', '-', '!', '?', \"'s\"]"
   ]
  },
  {
   "cell_type": "code",
   "execution_count": 21,
   "metadata": {},
   "outputs": [],
   "source": [
    "clean_fdist = nltk.FreqDist(w.lower() for w in text if w.lower() not in stopwords)"
   ]
  },
  {
   "cell_type": "code",
   "execution_count": 22,
   "metadata": {},
   "outputs": [
    {
     "data": {
      "image/png": "[encoded data removed]",
      "text/plain": [
       "<Figure size 1152x432 with 1 Axes>"
      ]
     },
     "metadata": {},
     "output_type": "display_data"
    }
   ],
   "source": [
    "plt.figure(figsize=(16, 6))\n",
    "clean_fdist.plot(100, cumulative=False)"
   ]
  },
  {
   "cell_type": "code",
   "execution_count": 23,
   "metadata": {},
   "outputs": [
    {
     "data": {
      "text/plain": [
       "462"
      ]
     },
     "execution_count": 23,
     "metadata": {},
     "output_type": "execute_result"
    }
   ],
   "source": [
    "fdist['one']"
   ]
  },
  {
   "cell_type": "code",
   "execution_count": 24,
   "metadata": {},
   "outputs": [
    {
     "data": {
      "text/plain": [
       "{11: 343,\n",
       " 53: 23,\n",
       " 29: 134,\n",
       " 5: 460,\n",
       " 19: 309,\n",
       " 37: 68,\n",
       " 35: 101,\n",
       " 38: 55,\n",
       " 17: 284,\n",
       " 15: 276,\n",
       " 4: 384,\n",
       " 21: 262,\n",
       " 12: 307,\n",
       " 22: 263,\n",
       " 34: 116,\n",
       " 8: 473,\n",
       " 61: 8,\n",
       " 14: 340,\n",
       " 9: 435,\n",
       " 26: 177,\n",
       " 18: 287,\n",
       " 7: 531,\n",
       " 30: 151,\n",
       " 13: 296,\n",
       " 33: 135,\n",
       " 44: 39,\n",
       " 70: 7,\n",
       " 31: 134,\n",
       " 39: 70,\n",
       " 20: 271,\n",
       " 3: 243,\n",
       " 2: 224,\n",
       " 24: 222,\n",
       " 46: 36,\n",
       " 36: 89,\n",
       " 6: 568,\n",
       " 10: 384,\n",
       " 45: 36,\n",
       " 23: 220,\n",
       " 47: 32,\n",
       " 16: 324,\n",
       " 28: 178,\n",
       " 66: 7,\n",
       " 49: 32,\n",
       " 27: 178,\n",
       " 32: 132,\n",
       " 25: 212,\n",
       " 92: 1,\n",
       " 41: 52,\n",
       " 65: 6,\n",
       " 48: 31,\n",
       " 1: 47,\n",
       " 59: 6,\n",
       " 42: 50,\n",
       " 51: 19,\n",
       " 40: 47,\n",
       " 57: 11,\n",
       " 43: 58,\n",
       " 64: 5,\n",
       " 50: 24,\n",
       " 62: 7,\n",
       " 82: 3,\n",
       " 54: 17,\n",
       " 58: 8,\n",
       " 52: 9,\n",
       " 81: 1,\n",
       " 60: 6,\n",
       " 146: 1,\n",
       " 89: 2,\n",
       " 56: 18,\n",
       " 86: 1,\n",
       " 134: 1,\n",
       " 88: 1,\n",
       " 55: 15,\n",
       " 85: 3,\n",
       " 68: 5,\n",
       " 63: 8,\n",
       " 123: 1,\n",
       " 69: 2,\n",
       " 74: 2,\n",
       " 67: 3,\n",
       " 93: 1,\n",
       " 73: 1,\n",
       " 71: 4,\n",
       " 77: 3,\n",
       " 99: 2,\n",
       " 110: 1,\n",
       " 107: 2,\n",
       " 98: 1,\n",
       " 79: 1,\n",
       " 105: 2,\n",
       " 76: 1,\n",
       " 75: 2,\n",
       " 78: 2,\n",
       " 100: 1,\n",
       " 72: 1,\n",
       " 101: 1,\n",
       " 94: 1,\n",
       " 103: 1,\n",
       " 87: 1,\n",
       " 96: 1,\n",
       " 109: 1}"
      ]
     },
     "execution_count": 24,
     "metadata": {},
     "output_type": "execute_result"
    }
   ],
   "source": [
    "length_count= {}\n",
    "ma = 0\n",
    "for index, row in df.iterrows():\n",
    "#     w_list = p.findall(row['sentence'])\n",
    "    w_list = nltk.word_tokenize(row['sentence'])\n",
    "    num = len(w_list)\n",
    "    if num > 1000:\n",
    "        print(row['id'])\n",
    "    if not num in length_count:\n",
    "        length_count[num] = 1\n",
    "    else:\n",
    "        length_count[num] += 1\n",
    "    ma = max(num,ma)\n",
    "\n",
    "length_count"
   ]
  },
  {
   "cell_type": "code",
   "execution_count": 25,
   "metadata": {},
   "outputs": [],
   "source": [
    "ma = 100\n",
    "x_len = [i for i in range(ma+1)]\n",
    "y_cnt = [0 for _ in range(ma+1)]\n",
    "for i in range(ma):\n",
    "    if i in length_count:\n",
    "        y_cnt[i] = length_count[i]"
   ]
  },
  {
   "cell_type": "code",
   "execution_count": 26,
   "metadata": {},
   "outputs": [
    {
     "data": {
      "text/plain": [
       "<Figure size 1152x432 with 0 Axes>"
      ]
     },
     "execution_count": 26,
     "metadata": {},
     "output_type": "execute_result"
    },
    {
     "data": {
      "image/png": "[encoded data removed]",
      "text/plain": [
       "<Figure size 432x288 with 1 Axes>"
      ]
     },
     "metadata": {},
     "output_type": "display_data"
    },
    {
     "data": {
      "text/plain": [
       "<Figure size 1152x432 with 0 Axes>"
      ]
     },
     "metadata": {},
     "output_type": "display_data"
    }
   ],
   "source": [
    "plt.scatter(x_len,y_cnt)\n",
    "plt.figure(figsize=(16, 6))"
   ]
  },
  {
   "cell_type": "code",
   "execution_count": 27,
   "metadata": {},
   "outputs": [
    {
     "data": {
      "text/plain": [
       "5972    I was matched with my Big Sister in June of 1992.\n",
       "Name: sentence, dtype: object"
      ]
     },
     "execution_count": 27,
     "metadata": {},
     "output_type": "execute_result"
    }
   ],
   "source": [
    "df[df['id']=='118CWL050_1504_1554']['sentence']"
   ]
  },
  {
   "cell_type": "code",
   "execution_count": 28,
   "metadata": {},
   "outputs": [],
   "source": [
    "import numpy as np\n",
    "import pandas as pd\n",
    "import nltk\n",
    "from nltk.corpus import wordnet\n",
    "%matplotlib inline\n",
    "import matplotlib.pyplot as plt"
   ]
  },
  {
   "cell_type": "code",
   "execution_count": 29,
   "metadata": {},
   "outputs": [],
   "source": [
    "df = pd.read_table('./EmoBank-master/corpus/raw.tsv')\n",
    "\n",
    "tokens = []\n",
    "for index, row in df.iterrows():\n",
    "#     w_list = p.findall(row['sentence'])\n",
    "    w_list = nltk.word_tokenize(row['sentence'])\n",
    "    tokens.append(w_list)\n",
    "\n",
    "from itertools import chain\n",
    "tokens = list(chain.from_iterable(tokens))\n",
    "tokens = list(set(tokens))\n",
    "l_tokens = [w.lower() for w in tokens]"
   ]
  },
  {
   "cell_type": "code",
   "execution_count": 30,
   "metadata": {},
   "outputs": [
    {
     "data": {
      "text/plain": [
       "[('I', 'PRP'), ('eat', 'VBP'), ('dog', 'JJ'), ('cat', 'NN'), ('half', 'NN')]"
      ]
     },
     "execution_count": 30,
     "metadata": {},
     "output_type": "execute_result"
    }
   ],
   "source": [
    "nltk.pos_tag(['I','eat','dog','cat','half'])"
   ]
  },
  {
   "cell_type": "code",
   "execution_count": 31,
   "metadata": {},
   "outputs": [],
   "source": [
    "nltk_tokens = nltk.pos_tag(l_tokens)"
   ]
  },
  {
   "cell_type": "code",
   "execution_count": 32,
   "metadata": {},
   "outputs": [],
   "source": [
    "def is_noun(tag):\n",
    "    return tag in ['NN', 'NNS', 'NNP', 'NNPS']\n",
    "\n",
    "\n",
    "def is_verb(tag):\n",
    "    return tag in ['VB', 'VBD', 'VBG', 'VBN', 'VBP', 'VBZ']\n",
    "\n",
    "\n",
    "def is_adverb(tag):\n",
    "    return tag in ['RB', 'RBR', 'RBS']\n",
    "\n",
    "\n",
    "def is_adjective(tag):\n",
    "    return tag in ['JJ', 'JJR', 'JJS']\n",
    "\n",
    "def is_count(tag):\n",
    "    return is_noun(tag) or is_verb(tag) or is_adverb(tag) or is_adjective(tag)"
   ]
  },
  {
   "cell_type": "code",
   "execution_count": 33,
   "metadata": {
    "scrolled": true
   },
   "outputs": [
    {
     "data": {
      "text/plain": [
       "13267"
      ]
     },
     "execution_count": 33,
     "metadata": {},
     "output_type": "execute_result"
    }
   ],
   "source": [
    "cnt =0\n",
    "reg_tokens = []\n",
    "for token in nltk_tokens:\n",
    "    if wordnet.morphy(token[0]) is not None:\n",
    "        word = wordnet.morphy(token[0])\n",
    "    else:\n",
    "        word = token[0]\n",
    "    if is_count(token[1]):\n",
    "        reg_tokens.append(word)\n",
    "\n",
    "reg_tokens = list(set(reg_tokens))\n",
    "len(reg_tokens)"
   ]
  },
  {
   "cell_type": "code",
   "execution_count": 34,
   "metadata": {},
   "outputs": [],
   "source": [
    "import json\n",
    "f = open('tempdata.json','w')\n",
    "json.dump(reg_tokens,f)"
   ]
  },
  {
   "cell_type": "code",
   "execution_count": 35,
   "metadata": {},
   "outputs": [
    {
     "data": {
      "text/plain": [
       "13267"
      ]
     },
     "execution_count": 35,
     "metadata": {},
     "output_type": "execute_result"
    }
   ],
   "source": [
    "f = open('tempdata.json','r')\n",
    "new_tokens = json.load(f)\n",
    "len(new_tokens)"
   ]
  },
  {
   "cell_type": "code",
   "execution_count": 36,
   "metadata": {},
   "outputs": [
    {
     "data": {
      "text/plain": [
       "13267"
      ]
     },
     "execution_count": 36,
     "metadata": {},
     "output_type": "execute_result"
    }
   ],
   "source": [
    "vec_size = len(reg_tokens)\n",
    "vec_size"
   ]
  },
  {
   "cell_type": "code",
   "execution_count": 37,
   "metadata": {},
   "outputs": [],
   "source": [
    "def extract_word(s):\n",
    "    res = np.zeros(vec_size)\n",
    "    word_list = nltk.word_tokenize(s)\n",
    "    for w in word_list:\n",
    "        if wordnet.morphy(w) is not None:\n",
    "            word = wordnet.morphy(w)\n",
    "        else:\n",
    "            word = w\n",
    "        if w in reg_tokens:\n",
    "            # 単語が出現する\n",
    "            ind = reg_tokens.index(w)\n",
    "            res[ind] += 1\n",
    "    return res"
   ]
  },
  {
   "cell_type": "code",
   "execution_count": 38,
   "metadata": {},
   "outputs": [
    {
     "data": {
      "text/plain": [
       "4.0"
      ]
     },
     "execution_count": 38,
     "metadata": {},
     "output_type": "execute_result"
    }
   ],
   "source": [
    "sample = \"I can't believe I wrote all that last year.\"\n",
    "extract_word(sample).sum()"
   ]
  },
  {
   "cell_type": "code",
   "execution_count": 39,
   "metadata": {},
   "outputs": [],
   "source": [
    "data_vad = pd.read_table('./EmoBank-master/corpus/reader.tsv')"
   ]
  },
  {
   "cell_type": "code",
   "execution_count": 40,
   "metadata": {},
   "outputs": [
    {
     "data": {
      "text/plain": [
       "<bound method NDFrame.head of                         id   Arousal  Dominance   Valence  sd.Arousal  \\\n",
       "0      110CYL068_1036_1079  3.200000   3.000000  3.000000    0.400000   \n",
       "1      110CYL068_1079_1110  3.000000   2.600000  2.600000    0.632456   \n",
       "2      110CYL068_1110_1127  2.333333   2.333333  2.000000    0.471405   \n",
       "3      110CYL068_1127_1130  3.000000   3.000000  3.000000    0.000000   \n",
       "4      110CYL068_1137_1188  3.000000   3.400000  3.600000    0.632456   \n",
       "5      110CYL068_1189_1328  3.166667   3.666667  3.666667    0.687184   \n",
       "6      110CYL068_1329_1475  3.200000   3.200000  3.400000    0.400000   \n",
       "7      110CYL068_1475_1558  3.000000   4.000000  3.600000    1.095445   \n",
       "8      110CYL068_1559_1601  3.000000   3.000000  2.600000    0.000000   \n",
       "9      110CYL068_1608_1658  3.200000   3.200000  3.200000    0.400000   \n",
       "10       110CYL068_163_275  2.666667   3.000000  3.666667    1.247219   \n",
       "11     110CYL068_1659_1810  3.000000   3.000000  3.200000    0.000000   \n",
       "12         110CYL068_18_24  2.000000   3.000000  3.000000    0.816497   \n",
       "13     110CYL068_1811_1946  2.800000   3.200000  3.400000    0.400000   \n",
       "14     110CYL068_1946_1997  3.500000   3.000000  3.166667    0.500000   \n",
       "15     110CYL068_2004_2039  3.200000   3.200000  3.200000    0.748331   \n",
       "16     110CYL068_2040_2141  3.200000   3.200000  3.600000    0.400000   \n",
       "17     110CYL068_2141_2194  3.000000   3.333333  2.666667    0.000000   \n",
       "18     110CYL068_2195_2216  3.600000   2.800000  2.600000    0.489898   \n",
       "19     110CYL068_2216_2266  3.000000   3.666667  3.333333    0.000000   \n",
       "20     110CYL068_2273_2373  3.400000   3.400000  3.600000    0.489898   \n",
       "21     110CYL068_2374_2413  3.200000   3.000000  3.400000    0.400000   \n",
       "22     110CYL068_2420_2501  3.400000   3.400000  3.600000    0.489898   \n",
       "23     110CYL068_2508_2518  2.666667   3.333333  3.333333    0.471405   \n",
       "24     110CYL068_2525_2582  2.800000   3.000000  3.000000    0.400000   \n",
       "25     110CYL068_2589_2593  3.000000   3.000000  3.000000    0.000000   \n",
       "26     110CYL068_2594_2642  3.000000   3.500000  4.000000    0.000000   \n",
       "27     110CYL068_2643_2750  3.400000   3.600000  4.000000    0.489898   \n",
       "28     110CYL068_2751_2841  3.250000   3.250000  3.250000    0.433013   \n",
       "29       110CYL068_276_386  3.000000   3.200000  3.200000    0.000000   \n",
       "...                    ...       ...        ...       ...         ...   \n",
       "10295        wwf12_157_170  2.800000   3.000000  3.600000    0.979796   \n",
       "10296      wwf12_1602_1785  3.400000   3.000000  3.400000    0.800000   \n",
       "10297      wwf12_1796_1940  3.600000   2.800000  2.200000    1.019804   \n",
       "10298        wwf12_190_365  3.500000   3.000000  3.000000    0.500000   \n",
       "10299      wwf12_1941_1972  3.400000   3.000000  2.800000    0.489898   \n",
       "10300      wwf12_1983_2401  4.000000   4.000000  3.666667    0.000000   \n",
       "10301      wwf12_2412_2590  3.000000   3.000000  3.200000    0.000000   \n",
       "10302      wwf12_2601_2742  3.400000   3.400000  3.200000    0.489898   \n",
       "10303      wwf12_2861_2986  3.000000   3.600000  4.000000    0.632456   \n",
       "10304      wwf12_2890_2917  3.000000   3.000000  3.000000    0.000000   \n",
       "10305      wwf12_2987_3074  3.000000   3.000000  3.666667    0.000000   \n",
       "10306      wwf12_3075_3101  3.000000   3.000000  3.000000    0.000000   \n",
       "10307         wwf12_31_148  1.800000   3.000000  3.000000    0.979796   \n",
       "10308      wwf12_3102_3227  3.000000   3.000000  3.000000    0.000000   \n",
       "10309      wwf12_3238_3286  3.200000   2.800000  2.600000    0.400000   \n",
       "10310      wwf12_3287_3399  3.600000   3.800000  4.000000    0.800000   \n",
       "10311      wwf12_3400_3550  2.600000   3.400000  3.200000    0.489898   \n",
       "10312      wwf12_3561_3725  2.800000   2.800000  3.000000    0.400000   \n",
       "10313      wwf12_3736_3973  3.500000   3.000000  3.000000    0.500000   \n",
       "10314        wwf12_376_490  3.200000   3.400000  3.400000    0.400000   \n",
       "10315      wwf12_3984_4151  3.400000   3.200000  3.400000    0.489898   \n",
       "10316      wwf12_4152_4162  3.400000   3.000000  3.800000    0.489898   \n",
       "10317      wwf12_4173_4229  2.333333   3.000000  3.333333    0.471405   \n",
       "10318      wwf12_4239_4361  2.666667   3.000000  3.333333    0.471405   \n",
       "10319      wwf12_4362_4530  3.250000   3.000000  3.500000    0.433013   \n",
       "10320      wwf12_4531_4624  3.666667   2.333333  3.333333    0.471405   \n",
       "10321        wwf12_501_591  3.000000   3.500000  3.500000    0.000000   \n",
       "10322        wwf12_592_691  3.000000   3.000000  3.000000    0.000000   \n",
       "10323        wwf12_702_921  3.400000   3.400000  3.400000    0.489898   \n",
       "10324       wwf12_932_1053  3.800000   3.400000  3.400000    0.400000   \n",
       "\n",
       "       sd.Dominance  sd.Valence  freq  \n",
       "0          0.000000    0.000000     5  \n",
       "1          0.489898    0.489898     5  \n",
       "2          0.471405    1.414214     3  \n",
       "3          0.000000    0.000000     2  \n",
       "4          0.489898    0.800000     5  \n",
       "5          0.745356    0.745356     6  \n",
       "6          0.400000    0.489898     5  \n",
       "7          0.632456    1.019804     5  \n",
       "8          0.000000    0.489898     5  \n",
       "9          0.400000    0.400000     5  \n",
       "10         0.000000    0.471405     3  \n",
       "11         0.000000    0.748331     5  \n",
       "12         0.816497    0.000000     3  \n",
       "13         0.400000    0.489898     5  \n",
       "14         0.577350    0.687184     6  \n",
       "15         0.400000    0.748331     5  \n",
       "16         0.400000    0.489898     5  \n",
       "17         0.471405    0.471405     3  \n",
       "18         0.400000    0.800000     5  \n",
       "19         0.471405    0.471405     3  \n",
       "20         0.489898    0.489898     5  \n",
       "21         0.000000    0.489898     5  \n",
       "22         0.489898    0.489898     5  \n",
       "23         0.471405    0.471405     3  \n",
       "24         0.000000    0.000000     5  \n",
       "25         0.000000    0.000000     2  \n",
       "26         0.500000    0.000000     2  \n",
       "27         0.489898    0.000000     5  \n",
       "28         0.433013    0.433013     4  \n",
       "29         0.400000    0.400000     5  \n",
       "...             ...         ...   ...  \n",
       "10295      0.000000    0.489898     5  \n",
       "10296      0.632456    0.800000     5  \n",
       "10297      0.748331    0.400000     5  \n",
       "10298      0.000000    0.000000     2  \n",
       "10299      0.632456    0.400000     5  \n",
       "10300      0.000000    0.471405     3  \n",
       "10301      0.000000    0.400000     5  \n",
       "10302      0.489898    0.400000     5  \n",
       "10303      0.489898    0.000000     5  \n",
       "10304      0.000000    0.000000     2  \n",
       "10305      0.000000    0.471405     3  \n",
       "10306      0.000000    0.000000     5  \n",
       "10307      0.000000    0.000000     5  \n",
       "10308      0.000000    0.000000     3  \n",
       "10309      0.400000    0.489898     5  \n",
       "10310      0.400000    0.000000     5  \n",
       "10311      0.800000    0.400000     5  \n",
       "10312      0.400000    0.000000     5  \n",
       "10313      0.000000    0.000000     2  \n",
       "10314      0.800000    0.489898     5  \n",
       "10315      0.400000    0.489898     5  \n",
       "10316      0.000000    0.748331     5  \n",
       "10317      0.000000    0.471405     3  \n",
       "10318      0.000000    0.471405     3  \n",
       "10319      0.000000    0.500000     4  \n",
       "10320      0.471405    0.942809     3  \n",
       "10321      0.500000    0.500000     2  \n",
       "10322      0.000000    0.000000     5  \n",
       "10323      0.489898    0.489898     5  \n",
       "10324      0.489898    0.800000     5  \n",
       "\n",
       "[10325 rows x 8 columns]>"
      ]
     },
     "execution_count": 40,
     "metadata": {},
     "output_type": "execute_result"
    }
   ],
   "source": [
    "data_vad.head"
   ]
  },
  {
   "cell_type": "code",
   "execution_count": 41,
   "metadata": {},
   "outputs": [
    {
     "data": {
      "text/plain": [
       "(10325, 8)"
      ]
     },
     "execution_count": 41,
     "metadata": {},
     "output_type": "execute_result"
    }
   ],
   "source": [
    "data_vad.shape"
   ]
  },
  {
   "cell_type": "code",
   "execution_count": 42,
   "metadata": {},
   "outputs": [
    {
     "data": {
      "text/plain": [
       "(10325,)"
      ]
     },
     "execution_count": 42,
     "metadata": {},
     "output_type": "execute_result"
    }
   ],
   "source": [
    "Y_a = data_vad['Arousal'].as_matrix()\n",
    "Y_v = data_vad['Valence'].as_matrix()\n",
    "Y_a.shape"
   ]
  },
  {
   "cell_type": "code",
   "execution_count": 43,
   "metadata": {},
   "outputs": [
    {
     "data": {
      "text/plain": [
       "(10325,)"
      ]
     },
     "execution_count": 43,
     "metadata": {},
     "output_type": "execute_result"
    }
   ],
   "source": [
    "Y_a.shape"
   ]
  },
  {
   "cell_type": "code",
   "execution_count": 44,
   "metadata": {},
   "outputs": [],
   "source": [
    "df = pd.read_table('./EmoBank-master/corpus/raw.tsv')"
   ]
  },
  {
   "cell_type": "code",
   "execution_count": 45,
   "metadata": {},
   "outputs": [
    {
     "data": {
      "text/plain": [
       "<bound method NDFrame.head of                                       id  \\\n",
       "0           Acephalous-Cant-believe_4_47   \n",
       "1         Acephalous-Cant-believe_83_354   \n",
       "2        Acephalous-Cant-believe_355_499   \n",
       "3        Acephalous-Cant-believe_500_515   \n",
       "4        Acephalous-Cant-believe_517_626   \n",
       "5        Acephalous-Cant-believe_627_817   \n",
       "6        Acephalous-Cant-believe_819_984   \n",
       "7       Acephalous-Cant-believe_986_1160   \n",
       "8      Acephalous-Cant-believe_1162_1229   \n",
       "9      Acephalous-Cant-believe_1266_1336   \n",
       "10     Acephalous-Cant-believe_1337_1409   \n",
       "11     Acephalous-Cant-believe_1410_1424   \n",
       "12     Acephalous-Cant-believe_1426_1520   \n",
       "13     Acephalous-Cant-believe_1521_1574   \n",
       "14     Acephalous-Cant-believe_1575_1667   \n",
       "15     Acephalous-Cant-believe_1726_1817   \n",
       "16     Acephalous-Cant-believe_1818_2022   \n",
       "17     Acephalous-Cant-believe_2023_2191   \n",
       "18     Acephalous-Cant-believe_2192_2221   \n",
       "19     Acephalous-Cant-believe_2281_2572   \n",
       "20     Acephalous-Cant-believe_2573_2641   \n",
       "21     Acephalous-Cant-believe_2642_2690   \n",
       "22     Acephalous-Cant-believe_2692_2836   \n",
       "23     Acephalous-Cant-believe_2840_2928   \n",
       "24     Acephalous-Cant-believe_2985_3022   \n",
       "25     Acephalous-Cant-believe_3023_3152   \n",
       "26     Acephalous-Cant-believe_3215_3283   \n",
       "27     Acephalous-Cant-believe_3342_3496   \n",
       "28     Acephalous-Cant-believe_3497_3547   \n",
       "29            Acephalous-Internet_29_105   \n",
       "...                                  ...   \n",
       "10328                       SemEval_1470   \n",
       "10329                       SemEval_1471   \n",
       "10330                       SemEval_1472   \n",
       "10331                       SemEval_1473   \n",
       "10332                       SemEval_1474   \n",
       "10333                       SemEval_1475   \n",
       "10334                       SemEval_1476   \n",
       "10335                       SemEval_1477   \n",
       "10336                       SemEval_1478   \n",
       "10337                       SemEval_1479   \n",
       "10338                       SemEval_1480   \n",
       "10339                       SemEval_1481   \n",
       "10340                       SemEval_1482   \n",
       "10341                       SemEval_1483   \n",
       "10342                       SemEval_1484   \n",
       "10343                       SemEval_1485   \n",
       "10344                       SemEval_1486   \n",
       "10345                       SemEval_1487   \n",
       "10346                       SemEval_1488   \n",
       "10347                       SemEval_1489   \n",
       "10348                       SemEval_1490   \n",
       "10349                       SemEval_1491   \n",
       "10350                       SemEval_1492   \n",
       "10351                       SemEval_1493   \n",
       "10352                       SemEval_1494   \n",
       "10353                       SemEval_1495   \n",
       "10354                       SemEval_1496   \n",
       "10355                       SemEval_1497   \n",
       "10356                       SemEval_1498   \n",
       "10357                       SemEval_1499   \n",
       "\n",
       "                                                sentence  \n",
       "0            I can't believe I wrote all that last year.  \n",
       "1      Because I've been grading all damn day and am ...  \n",
       "2      However, when I started looking through my arc...  \n",
       "3                                        What do I mean?  \n",
       "4      The posts I consider foundational to my curren...  \n",
       "5      Granted, the likelihood that I'm suffering fro...  \n",
       "6      It may also be that I remember the scene of th...  \n",
       "7      If you have absolutely nothing better to do on...  \n",
       "8      If you do have something better to do, though,...  \n",
       "9      Why is someone so young not having fun with fr...  \n",
       "10     Granted grading papers is important, but no fu...  \n",
       "11                                        I should know.  \n",
       "12     since, when I was your age I had fun playing w...  \n",
       "13     You need to try to have a life outside your co...  \n",
       "14     Just saying....it seems I have more life now t...  \n",
       "15     The one that really stuck in my mind was expla...  \n",
       "16     I'd read Watchmen a short while before and app...  \n",
       "17     The post not only taught me something about th...  \n",
       "18                         So thanks a lot for that one.  \n",
       "19     SEK, I started going through your back posts a...  \n",
       "20     Plus Justifying Comics as a Legitimate Object ...  \n",
       "21      I also liked \"Teaching the Overdetermined Image.  \n",
       "22     Your takedown of Cashill and the whole Ayers-w...  \n",
       "23     Also, The Day in Actual Communist and Real Naz...  \n",
       "24                 Agree with the previous two comments.  \n",
       "25     I don't remember if you've made noises here be...  \n",
       "26     What happened to your post that appeared in my...  \n",
       "27     Would it be possible to arrange your posts int...  \n",
       "28     I feel your British readers would appreciate t...  \n",
       "29     The Internet occasionally reminds me of how di...  \n",
       "...                                                  ...  \n",
       "10328               Frantic 911 call in Ryan O'Neal case  \n",
       "10329                 Durant's success trumps the Gators  \n",
       "10330           Scientist snoops in astronauts' journals  \n",
       "10331                YouTube founders split $650M payout  \n",
       "10332               African nation hopes Whoopi can help  \n",
       "10333                   United hang on to six-point lead  \n",
       "10334                 Lawyer seizes Smith's Bahamas home  \n",
       "10335             Was Prince's super show too revealing?  \n",
       "10336                 Clijsters looks for a long goodbye  \n",
       "10337               Snow's too deep even for snowmobiles  \n",
       "10338              Study: Female seals picky about mates  \n",
       "10339  ROUNDUP: Protests erupt despite \"state of sieg...  \n",
       "10340            Study: More kids exposed to online porn  \n",
       "10341                   Beyonce new SI bikini cover girl  \n",
       "10342    Marijuana helps ease HIV nerve pain, study says  \n",
       "10343                 Serena misses Bangalore tournament  \n",
       "10344        Dryer blamed for fire killing 39 cats, dogs  \n",
       "10345                  Roddick, Murray score in San Jose  \n",
       "10346                    Apple trademark dispute settled  \n",
       "10347                 U.S. online love brokers eye China  \n",
       "10348               U.S. diverts troops to fight Taliban  \n",
       "10349         'House of Cards' actor Ian Richardson dead  \n",
       "10350                 Taliban leader killed in airstrike  \n",
       "10351         Escape to Prague without the summer hordes  \n",
       "10352                  Kathmandu: First snow in 63 years  \n",
       "10353                        Nasdaq fails in bid for LSE  \n",
       "10354                      Ex-pastor gets death sentence  \n",
       "10355        Baby born on turnpike after dad misses exit  \n",
       "10356                   Study links chimps and 'hammers'  \n",
       "10357                 UN-Google Earth map climate change  \n",
       "\n",
       "[10358 rows x 2 columns]>"
      ]
     },
     "execution_count": 45,
     "metadata": {},
     "output_type": "execute_result"
    }
   ],
   "source": [
    "df.head"
   ]
  },
  {
   "cell_type": "code",
   "execution_count": 46,
   "metadata": {},
   "outputs": [
    {
     "name": "stdout",
     "output_type": "stream",
     "text": [
      "5340    ..I would be sad.\n",
      "Name: sentence, dtype: object\n",
      "                    id   Arousal  Dominance  Valence  sd.Arousal  \\\n",
      "2  110CYL068_1110_1127  2.333333   2.333333      2.0    0.471405   \n",
      "\n",
      "   sd.Dominance  sd.Valence  freq  \n",
      "2      0.471405    1.414214     3  \n"
     ]
    }
   ],
   "source": [
    "print(df[df['id']=='110CYL068_1110_1127']['sentence'])\n",
    "print(data_vad[data_vad['id']=='110CYL068_1110_1127'])"
   ]
  },
  {
   "cell_type": "code",
   "execution_count": 47,
   "metadata": {},
   "outputs": [],
   "source": [
    "#X = [ extract_word(row['sentence']) for index,row in df.iterrows() ]"
   ]
  },
  {
   "cell_type": "code",
   "execution_count": 48,
   "metadata": {},
   "outputs": [],
   "source": [
    "merged_data = pd.merge(df,data_vad,on='id')"
   ]
  },
  {
   "cell_type": "code",
   "execution_count": 49,
   "metadata": {},
   "outputs": [],
   "source": [
    "X = [ extract_word(row['sentence']) for index,row in merged_data.iterrows() ]"
   ]
  },
  {
   "cell_type": "code",
   "execution_count": 50,
   "metadata": {},
   "outputs": [
    {
     "data": {
      "text/plain": [
       "(10142, 13267)"
      ]
     },
     "execution_count": 50,
     "metadata": {},
     "output_type": "execute_result"
    }
   ],
   "source": [
    "X = np.array(X)\n",
    "X.shape"
   ]
  },
  {
   "cell_type": "code",
   "execution_count": 51,
   "metadata": {},
   "outputs": [
    {
     "data": {
      "text/plain": [
       "(10142, 3)"
      ]
     },
     "execution_count": 51,
     "metadata": {},
     "output_type": "execute_result"
    }
   ],
   "source": [
    "Y_a = merged_data['Arousal'].as_matrix()\n",
    "Y_v = merged_data['Valence'].as_matrix()\n",
    "Y_d = merged_data['Dominance'].as_matrix()\n",
    "\n",
    "Y = np.c_[Y_v,Y_a,Y_d]\n",
    "Y.shape"
   ]
  },
  {
   "cell_type": "code",
   "execution_count": 52,
   "metadata": {
    "scrolled": false
   },
   "outputs": [],
   "source": [
    "# from sklearn import cross_validation, preprocessing, linear_model, svm\n",
    "# clf_a = svm.SVR(kernel='rbf', C=1e3, gamma=0.1, epsilon=0.1)\n",
    "# clf_a.fit(X,Y_a)"
   ]
  },
  {
   "cell_type": "code",
   "execution_count": 53,
   "metadata": {},
   "outputs": [
    {
     "data": {
      "text/plain": [
       "5.0"
      ]
     },
     "execution_count": 53,
     "metadata": {},
     "output_type": "execute_result"
    }
   ],
   "source": [
    "Y.max()"
   ]
  },
  {
   "cell_type": "code",
   "execution_count": 54,
   "metadata": {},
   "outputs": [],
   "source": [
    "a = 1\n",
    "b = 5\n",
    "a2 = -1\n",
    "b2 = 1\n",
    "\n",
    "Y = (2*(Y-a)/(b-a))-1"
   ]
  },
  {
   "cell_type": "code",
   "execution_count": 72,
   "metadata": {},
   "outputs": [],
   "source": [
    "import torch #基本モジュール\n",
    "from torch.autograd import Variable #自動微分用\n",
    "import torch.nn as nn #ネットワーク構築用\n",
    "import torch.optim as optim #最適化関数\n",
    "import torch.nn.functional as F #ネットワーク用の様々な関数\n",
    "import torch.utils.data #データセット読み込み関連"
   ]
  },
  {
   "cell_type": "code",
   "execution_count": 73,
   "metadata": {},
   "outputs": [],
   "source": [
    "class Net1(nn.Module):\n",
    "    def __init__(self):\n",
    "        super(Net1, self).__init__()\n",
    "        self.fc1 = nn.Linear(vec_size,5000)\n",
    "        self.fc2 = nn.Linear(5000, 1000)\n",
    "        self.fc3 = nn.Linear(1000, 100)\n",
    "        self.fc4 = nn.Linear(100,30)\n",
    "        self.fc5 = nn.Linear(30,3)\n",
    "        \n",
    "    def forward(self, x):\n",
    "        x = F.relu(self.fc1(x))\n",
    "        x = F.relu(self.fc2(x))\n",
    "        x = F.relu(self.fc3(x))\n",
    "        x = F.relu(self.fc4(x))\n",
    "        x = F.tanh(self.fc5(x))\n",
    "        return x"
   ]
  },
  {
   "cell_type": "code",
   "execution_count": 83,
   "metadata": {},
   "outputs": [
    {
     "data": {
      "text/plain": [
       "Net1(\n",
       "  (fc1): Linear(in_features=13267, out_features=5000, bias=True)\n",
       "  (fc2): Linear(in_features=5000, out_features=1000, bias=True)\n",
       "  (fc3): Linear(in_features=1000, out_features=100, bias=True)\n",
       "  (fc4): Linear(in_features=100, out_features=30, bias=True)\n",
       "  (fc5): Linear(in_features=30, out_features=3, bias=True)\n",
       ")"
      ]
     },
     "execution_count": 83,
     "metadata": {},
     "output_type": "execute_result"
    }
   ],
   "source": [
    "net = Net1()\n",
    "net"
   ]
  },
  {
   "cell_type": "code",
   "execution_count": 84,
   "metadata": {},
   "outputs": [],
   "source": [
    "#Loss関数の指定\n",
    "criterion = nn.MSELoss()\n",
    "\n",
    "#Optimizerの指定\n",
    "optimizer = optim.SGD(net.parameters(), lr=0.001, momentum=0.9)"
   ]
  },
  {
   "cell_type": "code",
   "execution_count": 85,
   "metadata": {},
   "outputs": [
    {
     "name": "stdout",
     "output_type": "stream",
     "text": [
      "tensor([[ 0.0480,  0.0749, -0.0180],\n",
      "        [ 0.0238,  0.1025,  0.0065]])\n"
     ]
    }
   ],
   "source": [
    "input = Variable(torch.randn(2,vec_size))\n",
    "out = net(input)\n",
    "print(out)\n",
    "net.zero_grad()\n",
    "out.backward(torch.randn(2, 3))"
   ]
  },
  {
   "cell_type": "code",
   "execution_count": 86,
   "metadata": {},
   "outputs": [
    {
     "data": {
      "text/plain": [
       "tensor(1.00000e-02 *\n",
       "       [[-0.0034,  0.0347,  0.0323,  ...,  0.0376, -0.0604, -0.1741],\n",
       "        [-0.0017,  0.0179,  0.0166,  ...,  0.0193, -0.0311, -0.0896],\n",
       "        [-0.1450, -0.0105, -0.0892,  ...,  0.0391, -0.0862, -0.0296],\n",
       "        ...,\n",
       "        [ 0.0000,  0.0000,  0.0000,  ...,  0.0000,  0.0000,  0.0000],\n",
       "        [-0.0011,  0.0115,  0.0107,  ...,  0.0125, -0.0201, -0.0578],\n",
       "        [ 0.0000,  0.0000,  0.0000,  ...,  0.0000,  0.0000,  0.0000]])"
      ]
     },
     "execution_count": 86,
     "metadata": {},
     "output_type": "execute_result"
    }
   ],
   "source": [
    "params=list(net.parameters())\n",
    "params[0].grad.data"
   ]
  },
  {
   "cell_type": "code",
   "execution_count": 87,
   "metadata": {},
   "outputs": [
    {
     "data": {
      "text/plain": [
       "tensor(1.00000e-02 *\n",
       "       3.3612)"
      ]
     },
     "execution_count": 87,
     "metadata": {},
     "output_type": "execute_result"
    }
   ],
   "source": [
    "import torch.optim as optim\n",
    "\n",
    "#SGDのインスタンスを生成\n",
    "optimizer=optim.SGD(net.parameters(),lr=0.01)\n",
    "\n",
    "X_t = torch.from_numpy(X).float()\n",
    "Y_t = torch.from_numpy(Y).float()\n",
    "\n",
    "#イテレーション毎に以下を実行する\n",
    "#勾配の初期化\n",
    "optimizer.zero_grad()\n",
    "#出力の計算(順伝播)\n",
    "output=net(X_t)\n",
    "#損失関数の計算\n",
    "criterion(output,Y_t)"
   ]
  },
  {
   "cell_type": "code",
   "execution_count": 79,
   "metadata": {},
   "outputs": [
    {
     "data": {
      "text/plain": [
       "'torch.FloatTensor'"
      ]
     },
     "execution_count": 79,
     "metadata": {},
     "output_type": "execute_result"
    }
   ],
   "source": [
    "output.type()"
   ]
  },
  {
   "cell_type": "code",
   "execution_count": 80,
   "metadata": {},
   "outputs": [
    {
     "data": {
      "text/plain": [
       "tensor([[ 0.0000,  0.2000,  0.1000],\n",
       "        [-0.1000,  0.1000,  0.1000],\n",
       "        [ 0.2000,  0.0000,  0.1000],\n",
       "        ...,\n",
       "        [-0.1000,  0.1000,  0.0000],\n",
       "        [ 0.0000, -0.2000,  0.0000],\n",
       "        [-0.1000,  0.1000, -0.1000]])"
      ]
     },
     "execution_count": 80,
     "metadata": {},
     "output_type": "execute_result"
    }
   ],
   "source": [
    "Y_t"
   ]
  },
  {
   "cell_type": "code",
   "execution_count": 88,
   "metadata": {},
   "outputs": [],
   "source": [
    "loss=criterion(output, Y_t)\n",
    "#勾配の計算(誤差逆伝播)\n",
    "loss.backward()\n",
    "#重みの更新\n",
    "optimizer.step()"
   ]
  },
  {
   "cell_type": "code",
   "execution_count": 82,
   "metadata": {},
   "outputs": [
    {
     "data": {
      "text/plain": [
       "tensor(1.00000e-02 *\n",
       "       5.0078)"
      ]
     },
     "execution_count": 82,
     "metadata": {},
     "output_type": "execute_result"
    }
   ],
   "source": [
    "criterion(output,Y_t)"
   ]
  },
  {
   "cell_type": "code",
   "execution_count": 3,
   "metadata": {},
   "outputs": [
    {
     "ename": "NameError",
     "evalue": "name 'df' is not defined",
     "output_type": "error",
     "traceback": [
      "\u001b[0;31m---------------------------------------------------------------------------\u001b[0m",
      "\u001b[0;31mNameError\u001b[0m                                 Traceback (most recent call last)",
      "\u001b[0;32m<ipython-input-3-ee82860fcd52>\u001b[0m in \u001b[0;36m<module>\u001b[0;34m()\u001b[0m\n\u001b[1;32m      1\u001b[0m \u001b[0mtokens\u001b[0m \u001b[0;34m=\u001b[0m \u001b[0;34m[\u001b[0m\u001b[0;34m]\u001b[0m\u001b[0;34m\u001b[0m\u001b[0m\n\u001b[0;32m----> 2\u001b[0;31m \u001b[0;32mfor\u001b[0m \u001b[0mindex\u001b[0m\u001b[0;34m,\u001b[0m \u001b[0mrow\u001b[0m \u001b[0;32min\u001b[0m \u001b[0mdf\u001b[0m\u001b[0;34m.\u001b[0m\u001b[0miterrows\u001b[0m\u001b[0;34m(\u001b[0m\u001b[0;34m)\u001b[0m\u001b[0;34m:\u001b[0m\u001b[0;34m\u001b[0m\u001b[0m\n\u001b[0m\u001b[1;32m      3\u001b[0m \u001b[0;31m#     w_list = p.findall(row['sentence'])\u001b[0m\u001b[0;34m\u001b[0m\u001b[0;34m\u001b[0m\u001b[0m\n\u001b[1;32m      4\u001b[0m     \u001b[0mw_list\u001b[0m \u001b[0;34m=\u001b[0m \u001b[0mnltk\u001b[0m\u001b[0;34m.\u001b[0m\u001b[0mword_tokenize\u001b[0m\u001b[0;34m(\u001b[0m\u001b[0mrow\u001b[0m\u001b[0;34m[\u001b[0m\u001b[0;34m'sentence'\u001b[0m\u001b[0;34m]\u001b[0m\u001b[0;34m)\u001b[0m\u001b[0;34m\u001b[0m\u001b[0m\n\u001b[1;32m      5\u001b[0m     \u001b[0;32mfor\u001b[0m \u001b[0mw\u001b[0m \u001b[0;32min\u001b[0m \u001b[0mw_list\u001b[0m\u001b[0;34m:\u001b[0m\u001b[0;34m\u001b[0m\u001b[0m\n",
      "\u001b[0;31mNameError\u001b[0m: name 'df' is not defined"
     ]
    }
   ],
   "source": [
    "tokens = []\n",
    "for index, row in df.iterrows():\n",
    "#     w_list = p.findall(row['sentence'])\n",
    "    w_list = nltk.word_tokenize(row['sentence'])\n",
    "    for w in w_list:\n",
    "        if wordnet.morphy(w) is not None:\n",
    "            word = wordnet.morphy(w)\n",
    "        else:\n",
    "            word = w\n",
    "        tokens.append(word)\n",
    "\n",
    "# lowerにする,stopwordsを除く\n",
    "stopwords = nltk.corpus.stopwords.words('english')\n",
    "nltk_tokens = [w.lower() for w in tokens if w.lower() not in stopwords]\n",
    "\n",
    "nktk_tokens = nltk.pos_tag(nltk_tokens)\n",
    "\n",
    "# 三単元,複数などを正規化\n",
    "reg_tokens = []\n",
    "for token in nltk_tokens:\n",
    "    if is_count(token[1]):\n",
    "        reg_tokens.append(token[0])\n",
    "\n",
    "text = nltk.Text(reg_tokens)\n",
    "clean_fdist = nltk.FreqDist(w for w in text)\n",
    "clean_fdist"
   ]
  },
  {
   "cell_type": "code",
   "execution_count": null,
   "metadata": {},
   "outputs": [],
   "source": []
  }
 ],
 "metadata": {
  "kernelspec": {
   "display_name": "Environment (conda_pytorch_p36)",
   "language": "python",
   "name": "conda_pytorch_p36"
  },
  "language_info": {
   "codemirror_mode": {
    "name": "ipython",
    "version": 3
   },
   "file_extension": ".py",
   "mimetype": "text/x-python",
   "name": "python",
   "nbconvert_exporter": "python",
   "pygments_lexer": "ipython3",
   "version": "3.6.5"
  }
 },
 "nbformat": 4,
 "nbformat_minor": 2
}
