{
 "cells": [
  {
   "cell_type": "code",
   "execution_count": 2,
   "metadata": {},
   "outputs": [
    {
     "name": "stderr",
     "output_type": "stream",
     "text": [
      "/home/ubuntu/anaconda3/envs/pytorch_p36/lib/python3.6/site-packages/matplotlib/__init__.py:1067: UserWarning: Duplicate key in file \"/home/ubuntu/.config/matplotlib/matplotlibrc\", line #2\n",
      "  (fname, cnt))\n",
      "/home/ubuntu/anaconda3/envs/pytorch_p36/lib/python3.6/site-packages/matplotlib/__init__.py:1067: UserWarning: Duplicate key in file \"/home/ubuntu/.config/matplotlib/matplotlibrc\", line #3\n",
      "  (fname, cnt))\n"
     ]
    }
   ],
   "source": [
    "import numpy as np\n",
    "import pandas as pd\n",
    "import re\n",
    "\n",
    "from sklearn import datasets\n",
    "from sklearn.model_selection import train_test_split\n",
    "from sklearn.utils import shuffle\n",
    "\n",
    "from nltk.corpus import wordnet"
   ]
  },
  {
   "cell_type": "code",
   "execution_count": 3,
   "metadata": {},
   "outputs": [],
   "source": [
    "# グラフ化に必要なものの準備\n",
    "import matplotlib\n",
    "import matplotlib.pyplot as plt\n",
    "plt.style.use('ggplot') \n",
    "font = {'family' : 'meiryo'}\n",
    "matplotlib.rc('font', **font)"
   ]
  },
  {
   "cell_type": "code",
   "execution_count": 4,
   "metadata": {},
   "outputs": [],
   "source": [
    "data_vad = pd.read_table('./Emobank-master/corpus/reader.tsv')"
   ]
  },
  {
   "cell_type": "code",
   "execution_count": 5,
   "metadata": {},
   "outputs": [],
   "source": [
    "# 加工前データ,加工後データ の valence,arousal の分布を表示する"
   ]
  },
  {
   "cell_type": "code",
   "execution_count": 6,
   "metadata": {},
   "outputs": [],
   "source": [
    "data_arousal = pd.read_csv('data_preprocessed_Arousal.csv',encoding='utf-16')\n",
    "data_valence = pd.read_csv('data_preprocessed_Valence.csv',encoding='utf-16')"
   ]
  },
  {
   "cell_type": "code",
   "execution_count": 7,
   "metadata": {},
   "outputs": [],
   "source": [
    "% matplotlib inline"
   ]
  },
  {
   "cell_type": "code",
   "execution_count": 8,
   "metadata": {},
   "outputs": [
    {
     "data": {
      "text/html": [
       "<div>\n",
       "<style scoped>\n",
       "    .dataframe tbody tr th:only-of-type {\n",
       "        vertical-align: middle;\n",
       "    }\n",
       "\n",
       "    .dataframe tbody tr th {\n",
       "        vertical-align: top;\n",
       "    }\n",
       "\n",
       "    .dataframe thead th {\n",
       "        text-align: right;\n",
       "    }\n",
       "</style>\n",
       "<table border=\"1\" class=\"dataframe\">\n",
       "  <thead>\n",
       "    <tr style=\"text-align: right;\">\n",
       "      <th></th>\n",
       "      <th>id</th>\n",
       "      <th>Arousal</th>\n",
       "      <th>Dominance</th>\n",
       "      <th>Valence</th>\n",
       "      <th>sd.Arousal</th>\n",
       "      <th>sd.Dominance</th>\n",
       "      <th>sd.Valence</th>\n",
       "      <th>freq</th>\n",
       "    </tr>\n",
       "  </thead>\n",
       "  <tbody>\n",
       "    <tr>\n",
       "      <th>0</th>\n",
       "      <td>110CYL068_1036_1079</td>\n",
       "      <td>3.200000</td>\n",
       "      <td>3.000000</td>\n",
       "      <td>3.0</td>\n",
       "      <td>0.400000</td>\n",
       "      <td>0.000000</td>\n",
       "      <td>0.000000</td>\n",
       "      <td>5</td>\n",
       "    </tr>\n",
       "    <tr>\n",
       "      <th>1</th>\n",
       "      <td>110CYL068_1079_1110</td>\n",
       "      <td>3.000000</td>\n",
       "      <td>2.600000</td>\n",
       "      <td>2.6</td>\n",
       "      <td>0.632456</td>\n",
       "      <td>0.489898</td>\n",
       "      <td>0.489898</td>\n",
       "      <td>5</td>\n",
       "    </tr>\n",
       "    <tr>\n",
       "      <th>2</th>\n",
       "      <td>110CYL068_1110_1127</td>\n",
       "      <td>2.333333</td>\n",
       "      <td>2.333333</td>\n",
       "      <td>2.0</td>\n",
       "      <td>0.471405</td>\n",
       "      <td>0.471405</td>\n",
       "      <td>1.414214</td>\n",
       "      <td>3</td>\n",
       "    </tr>\n",
       "    <tr>\n",
       "      <th>3</th>\n",
       "      <td>110CYL068_1127_1130</td>\n",
       "      <td>3.000000</td>\n",
       "      <td>3.000000</td>\n",
       "      <td>3.0</td>\n",
       "      <td>0.000000</td>\n",
       "      <td>0.000000</td>\n",
       "      <td>0.000000</td>\n",
       "      <td>2</td>\n",
       "    </tr>\n",
       "    <tr>\n",
       "      <th>4</th>\n",
       "      <td>110CYL068_1137_1188</td>\n",
       "      <td>3.000000</td>\n",
       "      <td>3.400000</td>\n",
       "      <td>3.6</td>\n",
       "      <td>0.632456</td>\n",
       "      <td>0.489898</td>\n",
       "      <td>0.800000</td>\n",
       "      <td>5</td>\n",
       "    </tr>\n",
       "  </tbody>\n",
       "</table>\n",
       "</div>"
      ],
      "text/plain": [
       "                    id   Arousal  Dominance  Valence  sd.Arousal  \\\n",
       "0  110CYL068_1036_1079  3.200000   3.000000      3.0    0.400000   \n",
       "1  110CYL068_1079_1110  3.000000   2.600000      2.6    0.632456   \n",
       "2  110CYL068_1110_1127  2.333333   2.333333      2.0    0.471405   \n",
       "3  110CYL068_1127_1130  3.000000   3.000000      3.0    0.000000   \n",
       "4  110CYL068_1137_1188  3.000000   3.400000      3.6    0.632456   \n",
       "\n",
       "   sd.Dominance  sd.Valence  freq  \n",
       "0      0.000000    0.000000     5  \n",
       "1      0.489898    0.489898     5  \n",
       "2      0.471405    1.414214     3  \n",
       "3      0.000000    0.000000     2  \n",
       "4      0.489898    0.800000     5  "
      ]
     },
     "execution_count": 8,
     "metadata": {},
     "output_type": "execute_result"
    }
   ],
   "source": [
    "data_vad.head()"
   ]
  },
  {
   "cell_type": "code",
   "execution_count": 8,
   "metadata": {},
   "outputs": [],
   "source": [
    "a = 1\n",
    "b = 5\n",
    "data_vad = data_vad.assign(\n",
    "    Valence_reg = data_vad.apply(lambda x: 2*(x['Valence']-a)/(b-a)-1, axis=1),\n",
    "    Arousal_reg = data_vad.apply(lambda x: 2*(x['Arousal']-a)/(b-a)-1, axis=1),\n",
    "    Dominance_reg = data_vad.apply(lambda x: 2*(x['Dominance']-a)/(b-a)-1, axis=1)\n",
    ")\n"
   ]
  },
  {
   "cell_type": "code",
   "execution_count": 9,
   "metadata": {},
   "outputs": [
    {
     "name": "stdout",
     "output_type": "stream",
     "text": [
      "Requirement already satisfied: seaborn in /home/ubuntu/anaconda3/envs/pytorch_p36/lib/python3.6/site-packages (0.9.0)\n",
      "Requirement already satisfied: scipy>=0.14.0 in /home/ubuntu/anaconda3/envs/pytorch_p36/lib/python3.6/site-packages (from seaborn) (1.1.0)\n",
      "Requirement already satisfied: numpy>=1.9.3 in /home/ubuntu/anaconda3/envs/pytorch_p36/lib/python3.6/site-packages (from seaborn) (1.14.2)\n",
      "Requirement already satisfied: matplotlib>=1.4.3 in /home/ubuntu/anaconda3/envs/pytorch_p36/lib/python3.6/site-packages (from seaborn) (2.2.2)\n",
      "Requirement already satisfied: pandas>=0.15.2 in /home/ubuntu/anaconda3/envs/pytorch_p36/lib/python3.6/site-packages (from seaborn) (0.22.0)\n",
      "Requirement already satisfied: pytz in /home/ubuntu/anaconda3/envs/pytorch_p36/lib/python3.6/site-packages (from matplotlib>=1.4.3->seaborn) (2018.4)\n",
      "Requirement already satisfied: kiwisolver>=1.0.1 in /home/ubuntu/anaconda3/envs/pytorch_p36/lib/python3.6/site-packages (from matplotlib>=1.4.3->seaborn) (1.0.1)\n",
      "Requirement already satisfied: cycler>=0.10 in /home/ubuntu/anaconda3/envs/pytorch_p36/lib/python3.6/site-packages (from matplotlib>=1.4.3->seaborn) (0.10.0)\n",
      "Requirement already satisfied: pyparsing!=2.0.4,!=2.1.2,!=2.1.6,>=2.0.1 in /home/ubuntu/anaconda3/envs/pytorch_p36/lib/python3.6/site-packages (from matplotlib>=1.4.3->seaborn) (2.2.0)\n",
      "Requirement already satisfied: python-dateutil>=2.1 in /home/ubuntu/anaconda3/envs/pytorch_p36/lib/python3.6/site-packages (from matplotlib>=1.4.3->seaborn) (2.7.2)\n",
      "Requirement already satisfied: six>=1.10 in /home/ubuntu/anaconda3/envs/pytorch_p36/lib/python3.6/site-packages (from matplotlib>=1.4.3->seaborn) (1.11.0)\n",
      "Requirement already satisfied: setuptools in /home/ubuntu/anaconda3/envs/pytorch_p36/lib/python3.6/site-packages (from kiwisolver>=1.0.1->matplotlib>=1.4.3->seaborn) (39.0.1)\n"
     ]
    },
    {
     "name": "stderr",
     "output_type": "stream",
     "text": [
      "mkl-random 1.0.1 requires cython, which is not installed.\n",
      "mkl-fft 1.0.0 requires cython, which is not installed.\n",
      "You are using pip version 10.0.1, however version 18.1 is available.\n",
      "You should consider upgrading via the 'pip install --upgrade pip' command.\n"
     ]
    }
   ],
   "source": [
    "%%bash\n",
    "pip install seaborn"
   ]
  },
  {
   "cell_type": "code",
   "execution_count": 15,
   "metadata": {},
   "outputs": [],
   "source": [
    "import seaborn as sns"
   ]
  },
  {
   "cell_type": "code",
   "execution_count": 54,
   "metadata": {},
   "outputs": [
    {
     "data": {
      "image/png": "[encoded data removed]",
      "text/plain": [
       "<Figure size 432x432 with 3 Axes>"
      ]
     },
     "metadata": {},
     "output_type": "display_data"
    }
   ],
   "source": [
    "g = sns.JointGrid(x='Valence_reg',y='Arousal_reg',data=data_vad,xlim=(-1,1),ylim=(-1,1)) \n",
    "g = g.plot_joint(plt.scatter,color='green',s=40)\n",
    "g = g.plot_marginals(sns.distplot,kde=False)"
   ]
  },
  {
   "cell_type": "code",
   "execution_count": 55,
   "metadata": {},
   "outputs": [],
   "source": [
    "g.savefig('./plot_images/raw_plot.png')"
   ]
  },
  {
   "cell_type": "code",
   "execution_count": 62,
   "metadata": {},
   "outputs": [
    {
     "data": {
      "image/png": "[encoded data removed]",
      "text/plain": [
       "<Figure size 432x288 with 1 Axes>"
      ]
     },
     "metadata": {},
     "output_type": "display_data"
    }
   ],
   "source": [
    "sns.set_style(\"whitegrid\")\n",
    "g_1 = sns.distplot(data_vad.Valence_reg,kde=False)\n",
    "plt.xlim(-1,1)\n",
    "plt.savefig('./plot_images/raw_dist_v.png')"
   ]
  },
  {
   "cell_type": "code",
   "execution_count": 63,
   "metadata": {},
   "outputs": [
    {
     "data": {
      "image/png": "[encoded data removed]",
      "text/plain": [
       "<Figure size 432x288 with 1 Axes>"
      ]
     },
     "metadata": {},
     "output_type": "display_data"
    }
   ],
   "source": [
    "sns.set_style(\"whitegrid\")\n",
    "g_1 = sns.distplot(data_vad.Arousal_reg,kde=False)\n",
    "plt.xlim(-1,1)\n",
    "plt.savefig('./plot_images/raw_dist_a.png')"
   ]
  },
  {
   "cell_type": "code",
   "execution_count": 64,
   "metadata": {},
   "outputs": [
    {
     "data": {
      "text/html": [
       "<div>\n",
       "<style scoped>\n",
       "    .dataframe tbody tr th:only-of-type {\n",
       "        vertical-align: middle;\n",
       "    }\n",
       "\n",
       "    .dataframe tbody tr th {\n",
       "        vertical-align: top;\n",
       "    }\n",
       "\n",
       "    .dataframe thead th {\n",
       "        text-align: right;\n",
       "    }\n",
       "</style>\n",
       "<table border=\"1\" class=\"dataframe\">\n",
       "  <thead>\n",
       "    <tr style=\"text-align: right;\">\n",
       "      <th></th>\n",
       "      <th>Unnamed: 0</th>\n",
       "      <th>id</th>\n",
       "      <th>sentence</th>\n",
       "      <th>Arousal</th>\n",
       "      <th>Dominance</th>\n",
       "      <th>Valence</th>\n",
       "      <th>sd.Arousal</th>\n",
       "      <th>sd.Dominance</th>\n",
       "      <th>sd.Valence</th>\n",
       "      <th>freq</th>\n",
       "      <th>reg</th>\n",
       "      <th>words</th>\n",
       "      <th>data_type</th>\n",
       "      <th>Valence_reg</th>\n",
       "      <th>Arousal_reg</th>\n",
       "      <th>Dominance_reg</th>\n",
       "    </tr>\n",
       "  </thead>\n",
       "  <tbody>\n",
       "    <tr>\n",
       "      <th>0</th>\n",
       "      <td>2568</td>\n",
       "      <td>cable_spool_fort_5107_5146</td>\n",
       "      <td>Several more boys spewed out after him.</td>\n",
       "      <td>3.2</td>\n",
       "      <td>2.6</td>\n",
       "      <td>2.6</td>\n",
       "      <td>0.748331</td>\n",
       "      <td>0.489898</td>\n",
       "      <td>0.489898</td>\n",
       "      <td>5</td>\n",
       "      <td>several more boys spewed out after him</td>\n",
       "      <td>7</td>\n",
       "      <td>train</td>\n",
       "      <td>-0.2</td>\n",
       "      <td>0.1</td>\n",
       "      <td>-0.2</td>\n",
       "    </tr>\n",
       "    <tr>\n",
       "      <th>1</th>\n",
       "      <td>2548</td>\n",
       "      <td>cable_spool_fort_3784_3808</td>\n",
       "      <td>Chad just hung his head.</td>\n",
       "      <td>3.2</td>\n",
       "      <td>2.6</td>\n",
       "      <td>2.4</td>\n",
       "      <td>0.400000</td>\n",
       "      <td>0.800000</td>\n",
       "      <td>0.800000</td>\n",
       "      <td>5</td>\n",
       "      <td>chad just hung his head</td>\n",
       "      <td>5</td>\n",
       "      <td>train</td>\n",
       "      <td>-0.3</td>\n",
       "      <td>0.1</td>\n",
       "      <td>-0.2</td>\n",
       "    </tr>\n",
       "    <tr>\n",
       "      <th>2</th>\n",
       "      <td>3883</td>\n",
       "      <td>hotel-california_28834_28854</td>\n",
       "      <td>“I don't know much,”</td>\n",
       "      <td>2.6</td>\n",
       "      <td>2.6</td>\n",
       "      <td>2.6</td>\n",
       "      <td>0.489898</td>\n",
       "      <td>0.489898</td>\n",
       "      <td>0.489898</td>\n",
       "      <td>5</td>\n",
       "      <td>i don t know much</td>\n",
       "      <td>5</td>\n",
       "      <td>train</td>\n",
       "      <td>-0.2</td>\n",
       "      <td>-0.2</td>\n",
       "      <td>-0.2</td>\n",
       "    </tr>\n",
       "    <tr>\n",
       "      <th>3</th>\n",
       "      <td>370</td>\n",
       "      <td>detroit_10463_10549</td>\n",
       "      <td>They lack the means to build her back to her f...</td>\n",
       "      <td>3.4</td>\n",
       "      <td>3.0</td>\n",
       "      <td>2.6</td>\n",
       "      <td>0.489898</td>\n",
       "      <td>0.000000</td>\n",
       "      <td>0.489898</td>\n",
       "      <td>5</td>\n",
       "      <td>they lack the means to build her back to her f...</td>\n",
       "      <td>18</td>\n",
       "      <td>train</td>\n",
       "      <td>-0.2</td>\n",
       "      <td>0.2</td>\n",
       "      <td>0.0</td>\n",
       "    </tr>\n",
       "    <tr>\n",
       "      <th>4</th>\n",
       "      <td>9790</td>\n",
       "      <td>SemEval_1143</td>\n",
       "      <td>Steelers' Roethlisberger has concussion</td>\n",
       "      <td>2.4</td>\n",
       "      <td>2.4</td>\n",
       "      <td>1.8</td>\n",
       "      <td>0.800000</td>\n",
       "      <td>0.800000</td>\n",
       "      <td>0.748331</td>\n",
       "      <td>5</td>\n",
       "      <td>steelers  roethlisberger has concussion</td>\n",
       "      <td>4</td>\n",
       "      <td>train</td>\n",
       "      <td>-0.6</td>\n",
       "      <td>-0.3</td>\n",
       "      <td>-0.3</td>\n",
       "    </tr>\n",
       "  </tbody>\n",
       "</table>\n",
       "</div>"
      ],
      "text/plain": [
       "   Unnamed: 0                            id  \\\n",
       "0        2568    cable_spool_fort_5107_5146   \n",
       "1        2548    cable_spool_fort_3784_3808   \n",
       "2        3883  hotel-california_28834_28854   \n",
       "3         370           detroit_10463_10549   \n",
       "4        9790                  SemEval_1143   \n",
       "\n",
       "                                            sentence  Arousal  Dominance  \\\n",
       "0            Several more boys spewed out after him.      3.2        2.6   \n",
       "1                           Chad just hung his head.      3.2        2.6   \n",
       "2                               “I don't know much,”      2.6        2.6   \n",
       "3  They lack the means to build her back to her f...      3.4        3.0   \n",
       "4            Steelers' Roethlisberger has concussion      2.4        2.4   \n",
       "\n",
       "   Valence  sd.Arousal  sd.Dominance  sd.Valence  freq  \\\n",
       "0      2.6    0.748331      0.489898    0.489898     5   \n",
       "1      2.4    0.400000      0.800000    0.800000     5   \n",
       "2      2.6    0.489898      0.489898    0.489898     5   \n",
       "3      2.6    0.489898      0.000000    0.489898     5   \n",
       "4      1.8    0.800000      0.800000    0.748331     5   \n",
       "\n",
       "                                                 reg  words data_type  \\\n",
       "0            several more boys spewed out after him       7     train   \n",
       "1                           chad just hung his head       5     train   \n",
       "2                                i don t know much        5     train   \n",
       "3  they lack the means to build her back to her f...     18     train   \n",
       "4            steelers  roethlisberger has concussion      4     train   \n",
       "\n",
       "   Valence_reg  Arousal_reg  Dominance_reg  \n",
       "0         -0.2          0.1           -0.2  \n",
       "1         -0.3          0.1           -0.2  \n",
       "2         -0.2         -0.2           -0.2  \n",
       "3         -0.2          0.2            0.0  \n",
       "4         -0.6         -0.3           -0.3  "
      ]
     },
     "execution_count": 64,
     "metadata": {},
     "output_type": "execute_result"
    }
   ],
   "source": [
    "data_valence.head()"
   ]
  },
  {
   "cell_type": "code",
   "execution_count": 90,
   "metadata": {},
   "outputs": [
    {
     "data": {
      "image/png": "[encoded data removed]",
      "text/plain": [
       "<Figure size 432x288 with 1 Axes>"
      ]
     },
     "metadata": {},
     "output_type": "display_data"
    }
   ],
   "source": [
    "sns.set_style(\"whitegrid\")\n",
    "g_1 = sns.distplot(data_valence.Valence_reg,kde=False)\n",
    "plt.xlim(-1,1)\n",
    "plt.savefig('./plot_images/processed_dist_v.png')"
   ]
  },
  {
   "cell_type": "code",
   "execution_count": 67,
   "metadata": {},
   "outputs": [
    {
     "data": {
      "image/png": "[encoded data removed]",
      "text/plain": [
       "<Figure size 432x288 with 1 Axes>"
      ]
     },
     "metadata": {},
     "output_type": "display_data"
    }
   ],
   "source": [
    "g_1 = sns.distplot(data_arousal.Arousal_reg,kde=False)\n",
    "plt.xlim(-1,1)\n",
    "plt.savefig('./plot_images/processed_dist_a.png')"
   ]
  },
  {
   "cell_type": "code",
   "execution_count": 83,
   "metadata": {},
   "outputs": [
    {
     "data": {
      "image/png": "[encoded data removed]",
      "text/plain": [
       "<Figure size 432x288 with 1 Axes>"
      ]
     },
     "metadata": {},
     "output_type": "display_data"
    }
   ],
   "source": [
    "# wordをplotする\n",
    "data_preprocessed = pd.read_csv('data_preprocessed_2.csv',encoding='utf-16')\n",
    "g_words = sns.distplot(data_preprocessed.words,kde=False)\n",
    "plt.savefig('./plot_images/words_dist')"
   ]
  },
  {
   "cell_type": "code",
   "execution_count": 84,
   "metadata": {},
   "outputs": [
    {
     "data": {
      "text/plain": [
       "14    Just saying....it seems I have more life now t...\n",
       "60    I like to read about others watching baseball ...\n",
       "67    This website and everything on it is in the Pu...\n",
       "72    Now, many more moderate Muslims have become ra...\n",
       "75    The terrorists could strike any time they choo...\n",
       "Name: sentence, dtype: object"
      ]
     },
     "execution_count": 84,
     "metadata": {},
     "output_type": "execute_result"
    }
   ],
   "source": [
    "data_preprocessed[data_preprocessed['words']==20]['sentence'].head()"
   ]
  },
  {
   "cell_type": "code",
   "execution_count": 85,
   "metadata": {},
   "outputs": [
    {
     "data": {
      "text/html": [
       "<div>\n",
       "<style scoped>\n",
       "    .dataframe tbody tr th:only-of-type {\n",
       "        vertical-align: middle;\n",
       "    }\n",
       "\n",
       "    .dataframe tbody tr th {\n",
       "        vertical-align: top;\n",
       "    }\n",
       "\n",
       "    .dataframe thead th {\n",
       "        text-align: right;\n",
       "    }\n",
       "</style>\n",
       "<table border=\"1\" class=\"dataframe\">\n",
       "  <thead>\n",
       "    <tr style=\"text-align: right;\">\n",
       "      <th></th>\n",
       "      <th>Unnamed: 0</th>\n",
       "      <th>id</th>\n",
       "      <th>sentence</th>\n",
       "      <th>Arousal</th>\n",
       "      <th>Dominance</th>\n",
       "      <th>Valence</th>\n",
       "      <th>sd.Arousal</th>\n",
       "      <th>sd.Dominance</th>\n",
       "      <th>sd.Valence</th>\n",
       "      <th>freq</th>\n",
       "      <th>reg</th>\n",
       "      <th>words</th>\n",
       "    </tr>\n",
       "  </thead>\n",
       "  <tbody>\n",
       "    <tr>\n",
       "      <th>49</th>\n",
       "      <td>49</td>\n",
       "      <td>Acephalous-Internet_2652_2750</td>\n",
       "      <td>Apparently the drug use, sexual excess, and we...</td>\n",
       "      <td>3.2</td>\n",
       "      <td>3.2</td>\n",
       "      <td>2.8</td>\n",
       "      <td>0.400000</td>\n",
       "      <td>0.400000</td>\n",
       "      <td>0.400000</td>\n",
       "      <td>5</td>\n",
       "      <td>apparently the drug use  sexual excess  and we...</td>\n",
       "      <td>15</td>\n",
       "    </tr>\n",
       "    <tr>\n",
       "      <th>82</th>\n",
       "      <td>82</td>\n",
       "      <td>Anti-Terrorist_1812_1901</td>\n",
       "      <td>So the Bush administration can keep claiming t...</td>\n",
       "      <td>3.0</td>\n",
       "      <td>3.0</td>\n",
       "      <td>3.0</td>\n",
       "      <td>0.000000</td>\n",
       "      <td>0.000000</td>\n",
       "      <td>0.000000</td>\n",
       "      <td>5</td>\n",
       "      <td>so the bush administration can keep claiming t...</td>\n",
       "      <td>15</td>\n",
       "    </tr>\n",
       "    <tr>\n",
       "      <th>113</th>\n",
       "      <td>113</td>\n",
       "      <td>Anti-Terrorist_5071_5156</td>\n",
       "      <td>To deny reality, as the Israeli/NeoCons do, is...</td>\n",
       "      <td>2.6</td>\n",
       "      <td>3.4</td>\n",
       "      <td>2.6</td>\n",
       "      <td>0.489898</td>\n",
       "      <td>0.489898</td>\n",
       "      <td>0.489898</td>\n",
       "      <td>5</td>\n",
       "      <td>to deny reality  as the israeli/neocons do  is...</td>\n",
       "      <td>15</td>\n",
       "    </tr>\n",
       "    <tr>\n",
       "      <th>134</th>\n",
       "      <td>134</td>\n",
       "      <td>blog-monastery_1326_1390</td>\n",
       "      <td>He began by telling us, \"Do not take any of wh...</td>\n",
       "      <td>3.2</td>\n",
       "      <td>2.8</td>\n",
       "      <td>3.2</td>\n",
       "      <td>0.400000</td>\n",
       "      <td>0.400000</td>\n",
       "      <td>0.400000</td>\n",
       "      <td>5</td>\n",
       "      <td>he began by telling us  do not take any of wha...</td>\n",
       "      <td>15</td>\n",
       "    </tr>\n",
       "    <tr>\n",
       "      <th>159</th>\n",
       "      <td>159</td>\n",
       "      <td>blog-monastery_3085_3153</td>\n",
       "      <td>But the mind can only be known by you, the per...</td>\n",
       "      <td>2.8</td>\n",
       "      <td>3.4</td>\n",
       "      <td>3.0</td>\n",
       "      <td>0.400000</td>\n",
       "      <td>0.800000</td>\n",
       "      <td>0.000000</td>\n",
       "      <td>5</td>\n",
       "      <td>but the mind can only be known by you  the per...</td>\n",
       "      <td>15</td>\n",
       "    </tr>\n",
       "  </tbody>\n",
       "</table>\n",
       "</div>"
      ],
      "text/plain": [
       "     Unnamed: 0                             id  \\\n",
       "49           49  Acephalous-Internet_2652_2750   \n",
       "82           82       Anti-Terrorist_1812_1901   \n",
       "113         113       Anti-Terrorist_5071_5156   \n",
       "134         134       blog-monastery_1326_1390   \n",
       "159         159       blog-monastery_3085_3153   \n",
       "\n",
       "                                              sentence  Arousal  Dominance  \\\n",
       "49   Apparently the drug use, sexual excess, and we...      3.2        3.2   \n",
       "82   So the Bush administration can keep claiming t...      3.0        3.0   \n",
       "113  To deny reality, as the Israeli/NeoCons do, is...      2.6        3.4   \n",
       "134  He began by telling us, \"Do not take any of wh...      3.2        2.8   \n",
       "159  But the mind can only be known by you, the per...      2.8        3.4   \n",
       "\n",
       "     Valence  sd.Arousal  sd.Dominance  sd.Valence  freq  \\\n",
       "49       2.8    0.400000      0.400000    0.400000     5   \n",
       "82       3.0    0.000000      0.000000    0.000000     5   \n",
       "113      2.6    0.489898      0.489898    0.489898     5   \n",
       "134      3.2    0.400000      0.400000    0.400000     5   \n",
       "159      3.0    0.400000      0.800000    0.000000     5   \n",
       "\n",
       "                                                   reg  words  \n",
       "49   apparently the drug use  sexual excess  and we...     15  \n",
       "82   so the bush administration can keep claiming t...     15  \n",
       "113  to deny reality  as the israeli/neocons do  is...     15  \n",
       "134  he began by telling us  do not take any of wha...     15  \n",
       "159  but the mind can only be known by you  the per...     15  "
      ]
     },
     "execution_count": 85,
     "metadata": {},
     "output_type": "execute_result"
    }
   ],
   "source": [
    "data_preprocessed[data_preprocessed['words']==15].head()"
   ]
  },
  {
   "cell_type": "code",
   "execution_count": 87,
   "metadata": {},
   "outputs": [
    {
     "name": "stdout",
     "output_type": "stream",
     "text": [
      "10142 5830\n"
     ]
    }
   ],
   "source": [
    "# 15words 以上を削る\n",
    "data_preprocessed_cut = data_preprocessed[data_preprocessed['words']<=15]\n",
    "print(len(data_preprocessed),len(data_preprocessed_cut))"
   ]
  },
  {
   "cell_type": "code",
   "execution_count": 101,
   "metadata": {},
   "outputs": [
    {
     "name": "stdout",
     "output_type": "stream",
     "text": [
      "0.6020583190394511 -> 0.23229649238914626\n",
      "0.6435677530017153 -> 0.2652050919377652\n",
      "0.7216123499142367 -> 0.34131493506493504\n"
     ]
    }
   ],
   "source": [
    "col = ['Valence','Arousal','Dominance']\n",
    "\n",
    "# ValenceはこれでOK\n",
    "\n",
    "for name in col:\n",
    "    rate1 = len(data_preprocessed_cut[(data_preprocessed_cut[name]>=2.8)&(data_preprocessed_cut[name]<=3.2)])/len(data_preprocessed_cut)\n",
    "    vad_mask = ((data_preprocessed_cut[name]>=2.8)&(data_preprocessed_cut[name]<=3.2))\n",
    "    data_1 = data_preprocessed_cut[vad_mask]\n",
    "    data_2 = data_preprocessed_cut[~(vad_mask)]\n",
    "    data_use,data_no_use = train_test_split(data_1, test_size=0.8)\n",
    "    data_cut = pd.concat([data_use,data_2])\n",
    "    rate2 = len(data_cut[(data_cut[name]>=2.8)&(data_cut[name]<=3.2)])/len(data_cut)\n",
    "    print(\"{0} -> {1}\".format(rate1,rate2))\n",
    "    train, dev_test = train_test_split(data_cut,test_size=0.2)\n",
    "    dev, test = train_test_split(dev_test,test_size=0.5)\n",
    "    # train/dev/test = 8/1/1\n",
    "    train = train.assign(data_type='train')\n",
    "    dev = dev.assign(data_type='dev')\n",
    "    test = test.assign(data_type='test')\n",
    "    data_cut = pd.concat([train,dev,test])\n",
    "    a=1\n",
    "    b=5\n",
    "    data_cut = data_cut.assign(\n",
    "        Valence_reg = data_cut.apply(lambda x: 2*(x['Valence']-a)/(b-a)-1, axis=1),\n",
    "        Arousal_reg = data_cut.apply(lambda x: 2*(x['Arousal']-a)/(b-a)-1, axis=1),\n",
    "        Dominance_reg = data_cut.apply(lambda x: 2*(x['Dominance']-a)/(b-a)-1, axis=1)\n",
    "    )\n",
    "    # [-1,1]で正規化\n",
    "    data_cut.to_csv('data_preprocessed_cut_2_{0}.csv'.format(name),encoding='utf-16')"
   ]
  },
  {
   "cell_type": "code",
   "execution_count": 102,
   "metadata": {},
   "outputs": [
    {
     "data": {
      "image/png": "[encoded data removed]",
      "text/plain": [
       "<Figure size 432x288 with 1 Axes>"
      ]
     },
     "metadata": {},
     "output_type": "display_data"
    }
   ],
   "source": [
    "sns.set_style(\"whitegrid\")\n",
    "data_valence_2 = pd.read_csv('./data_preprocessed_cut_2_Valence.csv',encoding='utf-16')\n",
    "g_2 = sns.distplot(data_valence_2.Valence_reg,kde=False)\n",
    "plt.xlim(-1,1)\n",
    "plt.savefig('./plot_images/processed_dist_v_cut.png')"
   ]
  },
  {
   "cell_type": "code",
   "execution_count": 103,
   "metadata": {},
   "outputs": [
    {
     "data": {
      "image/png": "[encoded data removed]",
      "text/plain": [
       "<Figure size 432x288 with 1 Axes>"
      ]
     },
     "metadata": {},
     "output_type": "display_data"
    }
   ],
   "source": [
    "data_arousal_2 = pd.read_csv('./data_preprocessed_cut_2_Arousal.csv',encoding='utf-16')\n",
    "g_3 = sns.distplot(data_arousal_2.Arousal_reg,kde=False)\n",
    "plt.xlim(-1,1)\n",
    "plt.savefig('./plot_images/processed_dist_a_cut.png')"
   ]
  },
  {
   "cell_type": "code",
   "execution_count": 9,
   "metadata": {},
   "outputs": [],
   "source": [
    "data_preprocessed = pd.read_csv('data_preprocessed_2.csv',encoding='utf-16')\n",
    "# '\"をblankでreplaceしたものがdata_preprocessed_2.csv"
   ]
  },
  {
   "cell_type": "code",
   "execution_count": 10,
   "metadata": {},
   "outputs": [],
   "source": [
    "a = 1\n",
    "b = 5\n",
    "data_preprocessed = data_preprocessed.assign(\n",
    "    Valence_reg = data_preprocessed.apply(lambda x: 2*(x['Valence']-a)/(b-a)-1, axis=1),\n",
    "    Arousal_reg = data_preprocessed.apply(lambda x: 2*(x['Arousal']-a)/(b-a)-1, axis=1),\n",
    "    Dominance_reg = data_preprocessed.apply(lambda x: 2*(x['Dominance']-a)/(b-a)-1, axis=1)\n",
    ")"
   ]
  },
  {
   "cell_type": "code",
   "execution_count": 11,
   "metadata": {},
   "outputs": [
    {
     "data": {
      "text/plain": [
       "(-1.0, 1.0)"
      ]
     },
     "execution_count": 11,
     "metadata": {},
     "output_type": "execute_result"
    }
   ],
   "source": [
    "data_preprocessed.Valence_reg.min(),data_preprocessed.Valence_reg.max()"
   ]
  },
  {
   "cell_type": "code",
   "execution_count": 12,
   "metadata": {},
   "outputs": [
    {
     "name": "stdout",
     "output_type": "stream",
     "text": [
      "10142 5830\n"
     ]
    }
   ],
   "source": [
    "# 15words 以上を削る\n",
    "data_preprocessed_cut = data_preprocessed[data_preprocessed['words']<=15]\n",
    "print(len(data_preprocessed),len(data_preprocessed_cut))"
   ]
  },
  {
   "cell_type": "code",
   "execution_count": 15,
   "metadata": {},
   "outputs": [],
   "source": [
    "data_preprocessed_cut.to_csv('data_cut_only.csv',encoding='utf-16')"
   ]
  },
  {
   "cell_type": "code",
   "execution_count": 14,
   "metadata": {},
   "outputs": [
    {
     "data": {
      "text/html": [
       "<div>\n",
       "<style scoped>\n",
       "    .dataframe tbody tr th:only-of-type {\n",
       "        vertical-align: middle;\n",
       "    }\n",
       "\n",
       "    .dataframe tbody tr th {\n",
       "        vertical-align: top;\n",
       "    }\n",
       "\n",
       "    .dataframe thead th {\n",
       "        text-align: right;\n",
       "    }\n",
       "</style>\n",
       "<table border=\"1\" class=\"dataframe\">\n",
       "  <thead>\n",
       "    <tr style=\"text-align: right;\">\n",
       "      <th></th>\n",
       "      <th>Unnamed: 0</th>\n",
       "      <th>id</th>\n",
       "      <th>sentence</th>\n",
       "      <th>Arousal</th>\n",
       "      <th>Dominance</th>\n",
       "      <th>Valence</th>\n",
       "      <th>sd.Arousal</th>\n",
       "      <th>sd.Dominance</th>\n",
       "      <th>sd.Valence</th>\n",
       "      <th>freq</th>\n",
       "      <th>reg</th>\n",
       "      <th>words</th>\n",
       "      <th>Valence_reg</th>\n",
       "      <th>Arousal_reg</th>\n",
       "      <th>Dominance_reg</th>\n",
       "    </tr>\n",
       "  </thead>\n",
       "  <tbody>\n",
       "    <tr>\n",
       "      <th>0</th>\n",
       "      <td>0</td>\n",
       "      <td>Acephalous-Cant-believe_4_47</td>\n",
       "      <td>I can't believe I wrote all that last year.</td>\n",
       "      <td>3.4</td>\n",
       "      <td>3.2</td>\n",
       "      <td>3.0</td>\n",
       "      <td>0.800000</td>\n",
       "      <td>0.400000</td>\n",
       "      <td>0.000000</td>\n",
       "      <td>5</td>\n",
       "      <td>i cant believe i wrote all that last year</td>\n",
       "      <td>9</td>\n",
       "      <td>0.0</td>\n",
       "      <td>0.2</td>\n",
       "      <td>0.1</td>\n",
       "    </tr>\n",
       "    <tr>\n",
       "      <th>3</th>\n",
       "      <td>3</td>\n",
       "      <td>Acephalous-Cant-believe_500_515</td>\n",
       "      <td>What do I mean?</td>\n",
       "      <td>3.0</td>\n",
       "      <td>3.0</td>\n",
       "      <td>3.0</td>\n",
       "      <td>0.000000</td>\n",
       "      <td>0.000000</td>\n",
       "      <td>0.000000</td>\n",
       "      <td>5</td>\n",
       "      <td>what do i mean?</td>\n",
       "      <td>5</td>\n",
       "      <td>0.0</td>\n",
       "      <td>0.0</td>\n",
       "      <td>0.0</td>\n",
       "    </tr>\n",
       "    <tr>\n",
       "      <th>8</th>\n",
       "      <td>8</td>\n",
       "      <td>Acephalous-Cant-believe_1162_1229</td>\n",
       "      <td>If you do have something better to do, though,...</td>\n",
       "      <td>3.0</td>\n",
       "      <td>3.2</td>\n",
       "      <td>2.8</td>\n",
       "      <td>0.000000</td>\n",
       "      <td>0.748331</td>\n",
       "      <td>0.400000</td>\n",
       "      <td>5</td>\n",
       "      <td>if you do have something better to do  though ...</td>\n",
       "      <td>14</td>\n",
       "      <td>-0.1</td>\n",
       "      <td>0.0</td>\n",
       "      <td>0.1</td>\n",
       "    </tr>\n",
       "    <tr>\n",
       "      <th>9</th>\n",
       "      <td>9</td>\n",
       "      <td>Acephalous-Cant-believe_1266_1336</td>\n",
       "      <td>Why is someone so young not having fun with fr...</td>\n",
       "      <td>3.0</td>\n",
       "      <td>2.8</td>\n",
       "      <td>2.6</td>\n",
       "      <td>0.000000</td>\n",
       "      <td>0.400000</td>\n",
       "      <td>0.489898</td>\n",
       "      <td>5</td>\n",
       "      <td>why is someone so young not having fun with fr...</td>\n",
       "      <td>14</td>\n",
       "      <td>-0.2</td>\n",
       "      <td>0.0</td>\n",
       "      <td>-0.1</td>\n",
       "    </tr>\n",
       "    <tr>\n",
       "      <th>10</th>\n",
       "      <td>10</td>\n",
       "      <td>Acephalous-Cant-believe_1337_1409</td>\n",
       "      <td>Granted grading papers is important, but no fu...</td>\n",
       "      <td>2.6</td>\n",
       "      <td>3.2</td>\n",
       "      <td>2.8</td>\n",
       "      <td>0.489898</td>\n",
       "      <td>0.748331</td>\n",
       "      <td>0.748331</td>\n",
       "      <td>5</td>\n",
       "      <td>granted grading papers is important  but no fu...</td>\n",
       "      <td>13</td>\n",
       "      <td>-0.1</td>\n",
       "      <td>-0.2</td>\n",
       "      <td>0.1</td>\n",
       "    </tr>\n",
       "  </tbody>\n",
       "</table>\n",
       "</div>"
      ],
      "text/plain": [
       "    Unnamed: 0                                 id  \\\n",
       "0            0       Acephalous-Cant-believe_4_47   \n",
       "3            3    Acephalous-Cant-believe_500_515   \n",
       "8            8  Acephalous-Cant-believe_1162_1229   \n",
       "9            9  Acephalous-Cant-believe_1266_1336   \n",
       "10          10  Acephalous-Cant-believe_1337_1409   \n",
       "\n",
       "                                             sentence  Arousal  Dominance  \\\n",
       "0         I can't believe I wrote all that last year.      3.4        3.2   \n",
       "3                                     What do I mean?      3.0        3.0   \n",
       "8   If you do have something better to do, though,...      3.0        3.2   \n",
       "9   Why is someone so young not having fun with fr...      3.0        2.8   \n",
       "10  Granted grading papers is important, but no fu...      2.6        3.2   \n",
       "\n",
       "    Valence  sd.Arousal  sd.Dominance  sd.Valence  freq  \\\n",
       "0       3.0    0.800000      0.400000    0.000000     5   \n",
       "3       3.0    0.000000      0.000000    0.000000     5   \n",
       "8       2.8    0.000000      0.748331    0.400000     5   \n",
       "9       2.6    0.000000      0.400000    0.489898     5   \n",
       "10      2.8    0.489898      0.748331    0.748331     5   \n",
       "\n",
       "                                                  reg  words  Valence_reg  \\\n",
       "0          i cant believe i wrote all that last year       9          0.0   \n",
       "3                                     what do i mean?      5          0.0   \n",
       "8   if you do have something better to do  though ...     14         -0.1   \n",
       "9   why is someone so young not having fun with fr...     14         -0.2   \n",
       "10  granted grading papers is important  but no fu...     13         -0.1   \n",
       "\n",
       "    Arousal_reg  Dominance_reg  \n",
       "0           0.2            0.1  \n",
       "3           0.0            0.0  \n",
       "8           0.0            0.1  \n",
       "9           0.0           -0.1  \n",
       "10         -0.2            0.1  "
      ]
     },
     "execution_count": 14,
     "metadata": {},
     "output_type": "execute_result"
    }
   ],
   "source": [
    "data_preprocessed_cut.head()"
   ]
  },
  {
   "cell_type": "code",
   "execution_count": null,
   "metadata": {},
   "outputs": [],
   "source": []
  }
 ],
 "metadata": {
  "kernelspec": {
   "display_name": "Environment (conda_pytorch_p36)",
   "language": "python",
   "name": "conda_pytorch_p36"
  },
  "language_info": {
   "codemirror_mode": {
    "name": "ipython",
    "version": 3
   },
   "file_extension": ".py",
   "mimetype": "text/x-python",
   "name": "python",
   "nbconvert_exporter": "python",
   "pygments_lexer": "ipython3",
   "version": "3.6.5"
  }
 },
 "nbformat": 4,
 "nbformat_minor": 2
}
