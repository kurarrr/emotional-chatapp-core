{
 "cells": [
  {
   "cell_type": "code",
   "execution_count": 1,
   "metadata": {},
   "outputs": [
    {
     "name": "stderr",
     "output_type": "stream",
     "text": [
      "/home/ubuntu/anaconda3/envs/pytorch_p36/lib/python3.6/site-packages/matplotlib/__init__.py:1067: UserWarning: Duplicate key in file \"/home/ubuntu/.config/matplotlib/matplotlibrc\", line #2\n",
      "  (fname, cnt))\n",
      "/home/ubuntu/anaconda3/envs/pytorch_p36/lib/python3.6/site-packages/matplotlib/__init__.py:1067: UserWarning: Duplicate key in file \"/home/ubuntu/.config/matplotlib/matplotlibrc\", line #3\n",
      "  (fname, cnt))\n"
     ]
    }
   ],
   "source": [
    "import torch\n",
    "import torch.nn as nn\n",
    "import torch.nn.functional as F\n",
    "import torch.optim as optim\n",
    "\n",
    "import numpy as np\n",
    "import pandas as pd\n",
    "\n",
    "from sklearn import datasets\n",
    "from sklearn.model_selection import train_test_split\n",
    "from sklearn.utils import shuffle\n",
    "\n",
    "import json"
   ]
  },
  {
   "cell_type": "code",
   "execution_count": 3,
   "metadata": {
    "scrolled": true
   },
   "outputs": [],
   "source": [
    "path = './pred_Valence_3.csv'\n",
    "dat_pd = pd.read_csv(path,encoding='utf-16',sep='\\t')"
   ]
  },
  {
   "cell_type": "code",
   "execution_count": 5,
   "metadata": {},
   "outputs": [
    {
     "data": {
      "text/plain": [
       "0       2.862097\n",
       "1       2.964155\n",
       "2       2.930636\n",
       "3       2.893463\n",
       "4       2.910001\n",
       "5       2.944731\n",
       "6       2.954354\n",
       "7       2.937001\n",
       "8       2.875608\n",
       "9       2.833932\n",
       "10      2.880592\n",
       "11      2.858465\n",
       "12      2.991358\n",
       "13      2.971614\n",
       "14      2.949232\n",
       "15      2.853118\n",
       "16      2.878186\n",
       "17      2.848898\n",
       "18      2.941657\n",
       "19      2.923354\n",
       "20      2.926094\n",
       "21      2.967507\n",
       "22      3.035846\n",
       "23      2.890671\n",
       "24      3.007583\n",
       "25      2.928434\n",
       "26      2.941636\n",
       "27      2.924258\n",
       "28      2.917204\n",
       "29      2.984227\n",
       "          ...   \n",
       "4973         NaN\n",
       "4974         NaN\n",
       "4975         NaN\n",
       "4976         NaN\n",
       "4977         NaN\n",
       "4978         NaN\n",
       "4979         NaN\n",
       "4980         NaN\n",
       "4981         NaN\n",
       "4982         NaN\n",
       "4983         NaN\n",
       "4984         NaN\n",
       "4985         NaN\n",
       "4986         NaN\n",
       "4987         NaN\n",
       "4988         NaN\n",
       "4989         NaN\n",
       "4990         NaN\n",
       "4991         NaN\n",
       "4992         NaN\n",
       "4993         NaN\n",
       "4994         NaN\n",
       "4995         NaN\n",
       "4996         NaN\n",
       "4997         NaN\n",
       "4998         NaN\n",
       "4999         NaN\n",
       "5000         NaN\n",
       "5001         NaN\n",
       "5002         NaN\n",
       "Name: Valence_pred, Length: 5003, dtype: float64"
      ]
     },
     "execution_count": 5,
     "metadata": {},
     "output_type": "execute_result"
    }
   ],
   "source": [
    "dat_pd['Valence_pred']"
   ]
  },
  {
   "cell_type": "code",
   "execution_count": null,
   "metadata": {},
   "outputs": [],
   "source": []
  }
 ],
 "metadata": {
  "kernelspec": {
   "display_name": "Environment (conda_pytorch_p36)",
   "language": "python",
   "name": "conda_pytorch_p36"
  },
  "language_info": {
   "codemirror_mode": {
    "name": "ipython",
    "version": 3
   },
   "file_extension": ".py",
   "mimetype": "text/x-python",
   "name": "python",
   "nbconvert_exporter": "python",
   "pygments_lexer": "ipython3",
   "version": "3.6.5"
  }
 },
 "nbformat": 4,
 "nbformat_minor": 2
}
