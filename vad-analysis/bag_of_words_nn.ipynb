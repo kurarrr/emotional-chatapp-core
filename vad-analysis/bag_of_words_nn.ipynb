{
 "cells": [
  {
   "cell_type": "code",
   "execution_count": 2,
   "metadata": {},
   "outputs": [],
   "source": [
    "import numpy as np\n",
    "import pandas as pd\n",
    "import nltk\n",
    "from nltk.corpus import wordnet\n",
    "%matplotlib inline\n",
    "import matplotlib.pyplot as plt"
   ]
  },
  {
   "cell_type": "code",
   "execution_count": 12,
   "metadata": {},
   "outputs": [],
   "source": [
    "def is_noun(tag):\n",
    "    return tag in ['NN', 'NNS', 'NNP', 'NNPS']\n",
    "\n",
    "\n",
    "def is_verb(tag):\n",
    "    return tag in ['VB', 'VBD', 'VBG', 'VBN', 'VBP', 'VBZ']\n",
    "\n",
    "\n",
    "def is_adverb(tag):\n",
    "    return tag in ['RB', 'RBR', 'RBS']\n",
    "\n",
    "\n",
    "def is_adjective(tag):\n",
    "    return tag in ['JJ', 'JJR', 'JJS']\n",
    "\n",
    "def is_count(tag):\n",
    "    return is_noun(tag) or is_verb(tag) or is_adverb(tag) or is_adjective(tag)"
   ]
  },
  {
   "cell_type": "code",
   "execution_count": 13,
   "metadata": {},
   "outputs": [
    {
     "data": {
      "text/plain": [
       "13299"
      ]
     },
     "execution_count": 13,
     "metadata": {},
     "output_type": "execute_result"
    }
   ],
   "source": [
    "df = pd.read_table('./Emobank-master/corpus/raw.tsv')\n",
    "\n",
    "tokens = []\n",
    "for index, row in df.iterrows():\n",
    "#     w_list = p.findall(row['sentence'])\n",
    "    w_list = nltk.word_tokenize(row['sentence'])\n",
    "    tokens.append(w_list)\n",
    "\n",
    "from itertools import chain\n",
    "tokens = list(chain.from_iterable(tokens))\n",
    "# 重複を除く\n",
    "tokens = list(set(tokens))\n",
    "\n",
    "# lower(小文字)の出現単語\n",
    "l_tokens = [w.lower() for w in tokens]\n",
    "nltk_tokens = nltk.pos_tag(l_tokens)\n",
    "\n",
    "# 三単元,複数などを正規化\n",
    "reg_tokens = []\n",
    "for token in nltk_tokens:\n",
    "    if wordnet.morphy(token[0]) is not None:\n",
    "        word = wordnet.morphy(token[0])\n",
    "    else:\n",
    "        word = token[0]\n",
    "    if is_count(token[1]):\n",
    "        reg_tokens.append(word)\n",
    "\n",
    "reg_tokens = list(set(reg_tokens))\n",
    "vec_size = len(reg_tokens)\n",
    "vec_size"
   ]
  },
  {
   "cell_type": "code",
   "execution_count": 14,
   "metadata": {},
   "outputs": [],
   "source": [
    "def extract_word(s, debug=False):\n",
    "    # 文章から出現単語を抜き出す\n",
    "    res = np.zeros(vec_size)\n",
    "    word_list = nltk.word_tokenize(s)\n",
    "    if debug:\n",
    "        cnt_words = []\n",
    "    for w in word_list:\n",
    "        if wordnet.morphy(w) is not None:\n",
    "            word = wordnet.morphy(w)\n",
    "        else:\n",
    "            word = w\n",
    "        if w in reg_tokens:\n",
    "            # 単語が出現する\n",
    "            ind = reg_tokens.index(w)\n",
    "            if debug:\n",
    "                cnt_words.append(w)\n",
    "            res[ind] += 1\n",
    "    if debug:\n",
    "        print(cnt_words)\n",
    "        \n",
    "    return res"
   ]
  },
  {
   "cell_type": "code",
   "execution_count": 15,
   "metadata": {},
   "outputs": [],
   "source": [
    "data_vad = pd.read_table('./Emobank-master/corpus/reader.tsv')\n",
    "# sentence<->vadのいずれかがないデータを消す\n",
    "merged_data = pd.merge(df,data_vad,on='id')"
   ]
  },
  {
   "cell_type": "code",
   "execution_count": 17,
   "metadata": {},
   "outputs": [],
   "source": [
    "X_orig = np.array([ extract_word(row['sentence']) for index,row in merged_data.iterrows() ])\n",
    "Y_a = merged_data['Arousal'].as_matrix()\n",
    "Y_v = merged_data['Valence'].as_matrix()\n",
    "Y_d = merged_data['Dominance'].as_matrix()\n",
    "Y_orig = np.c_[Y_v,Y_a,Y_d]"
   ]
  },
  {
   "cell_type": "code",
   "execution_count": 18,
   "metadata": {},
   "outputs": [
    {
     "name": "stdout",
     "output_type": "stream",
     "text": [
      "-1.0 1.0\n"
     ]
    }
   ],
   "source": [
    "a=1\n",
    "b=5\n",
    "Y_orig = (2*(Y_orig-a)/(b-a))-1\n",
    "# [-1,1]で正規化\n",
    "print(Y_orig.min(),Y_orig.max())"
   ]
  },
  {
   "cell_type": "code",
   "execution_count": 19,
   "metadata": {},
   "outputs": [],
   "source": [
    "import torch #基本モジュール\n",
    "from torch.autograd import Variable #自動微分用\n",
    "import torch.nn as nn #ネットワーク構築用\n",
    "import torch.optim as optim #最適化関数\n",
    "import torch.nn.functional as F #ネットワーク用の様々な関数\n",
    "import torch.utils.data #データセット読み込み関連\n",
    "from sklearn import datasets\n",
    "from sklearn.model_selection import train_test_split\n",
    "from sklearn.utils import shuffle"
   ]
  },
  {
   "cell_type": "code",
   "execution_count": 20,
   "metadata": {},
   "outputs": [],
   "source": [
    "X = X_orig\n",
    "Y = Y_orig"
   ]
  },
  {
   "cell_type": "code",
   "execution_count": 21,
   "metadata": {},
   "outputs": [],
   "source": [
    "def train_and_test(net,X,Y,learning_rate = 0.1,epochs = 500,batch_size = 1000,test_size = 0.2):\n",
    "\n",
    "    train_X, test_X, train_Y, test_Y = train_test_split(X, Y, test_size=test_size)\n",
    "\n",
    "    #Loss関数の指定\n",
    "    criterion = nn.MSELoss()\n",
    "    #Optimizerの指定\n",
    "    optimizer=optim.Adam(net.parameters(),lr=learning_rate)\n",
    "\n",
    "    X_plot = []\n",
    "    Y_plot = []\n",
    "    Y_test_plot = []\n",
    "    \n",
    "    x_test = Variable(torch.FloatTensor(test_X))\n",
    "    y_test = Variable(torch.FloatTensor(test_Y))\n",
    "\n",
    "    n_batch = int(len(train_X)/batch_size)\n",
    "\n",
    "    for epoch in range(epochs):\n",
    "        # Forward pass: Compute predicted y by passing x to the model\n",
    "    #     loss_sum = 0\n",
    "        train_X, train_Y = shuffle(train_X, train_Y)\n",
    "        for i in range(n_batch+1):\n",
    "            start = i*batch_size\n",
    "            end = start + batch_size\n",
    "            x = Variable(torch.FloatTensor(train_X[start:end]))\n",
    "            y = Variable(torch.FloatTensor(train_Y[start:end]))\n",
    "            y_pred = net(x)\n",
    "            loss = criterion(y_pred, y)\n",
    "            optimizer.zero_grad()\n",
    "            loss.backward()\n",
    "            optimizer.step()\n",
    "    #         loss_sum += loss.data[0].item()\n",
    "\n",
    "        if epoch % 20 == 0:\n",
    "            X_plot.append(epoch)\n",
    "            Y_plot.append(loss.data[0].item())\n",
    "            \n",
    "            y_test_pred = net(x_test)\n",
    "            loss_test = criterion(y_test_pred,y_test)\n",
    "            Y_test_plot.append(loss_test[0].item())\n",
    "    \n",
    "            print(\"epoch : {0} , loss : {1}\".format(epoch,loss.data[0].item()))\n",
    "\n",
    "\n",
    "    p1, = plt.plot(X_plot, Y_plot)\n",
    "    p2, = plt.plot(X_plot, Y_test_plot)\n",
    "    plt.legend([p1,p2],[\"train\",\"test\"])\n",
    "    plt.show()\n",
    "    \n",
    "#     print(\"loss {0}\".format(loss_test))\n",
    "    return net"
   ]
  },
  {
   "cell_type": "code",
   "execution_count": 66,
   "metadata": {},
   "outputs": [],
   "source": [
    "class Net1(nn.Module):\n",
    "    def __init__(self):\n",
    "        super(Net1, self).__init__()\n",
    "        self.fc1 = nn.Linear(vec_size,3)\n",
    "        \n",
    "    def forward(self, x):\n",
    "        x = F.tanh(self.fc1(x))\n",
    "        return x"
   ]
  },
  {
   "cell_type": "code",
   "execution_count": null,
   "metadata": {
    "scrolled": true
   },
   "outputs": [
    {
     "name": "stderr",
     "output_type": "stream",
     "text": [
      "/home/ubuntu/anaconda3/envs/pytorch_p36/lib/python3.6/site-packages/ipykernel/__main__.py:37: UserWarning: invalid index of a 0-dim tensor. This will be an error in PyTorch 0.5. Use tensor.item() to convert a 0-dim tensor to a Python number\n",
      "/home/ubuntu/anaconda3/envs/pytorch_p36/lib/python3.6/site-packages/ipykernel/__main__.py:41: UserWarning: invalid index of a 0-dim tensor. This will be an error in PyTorch 0.5. Use tensor.item() to convert a 0-dim tensor to a Python number\n",
      "/home/ubuntu/anaconda3/envs/pytorch_p36/lib/python3.6/site-packages/ipykernel/__main__.py:43: UserWarning: invalid index of a 0-dim tensor. This will be an error in PyTorch 0.5. Use tensor.item() to convert a 0-dim tensor to a Python number\n"
     ]
    },
    {
     "name": "stdout",
     "output_type": "stream",
     "text": [
      "epoch : 0 , loss : 0.031494010239839554\n"
     ]
    }
   ],
   "source": [
    "net1 = Net1()\n",
    "net1 = train_and_test(net1,X,Y,epochs=100,batch_size=vec_size)"
   ]
  },
  {
   "cell_type": "code",
   "execution_count": 103,
   "metadata": {},
   "outputs": [],
   "source": [
    "class Net2(nn.Module):\n",
    "    def __init__(self):\n",
    "        super(Net2, self).__init__()\n",
    "        self.fc1 = nn.Linear(vec_size,100)\n",
    "        self.fc2 = nn.Linear(100,3)\n",
    "        \n",
    "    def forward(self, x):\n",
    "        x = F.relu(self.fc1(x))\n",
    "        x = F.tanh(self.fc2(x))\n",
    "        return x\n",
    "    \n",
    "class Net3(nn.Module):\n",
    "    def __init__(self):\n",
    "        super(Net3, self).__init__()\n",
    "        self.fc1 = nn.Linear(vec_size,1000)\n",
    "        self.fc2 = nn.Linear(1000,3)\n",
    "        \n",
    "    def forward(self, x):\n",
    "        x = F.relu(self.fc1(x))\n",
    "        x = F.tanh(self.fc2(x))\n",
    "        return x"
   ]
  },
  {
   "cell_type": "code",
   "execution_count": 104,
   "metadata": {},
   "outputs": [
    {
     "name": "stderr",
     "output_type": "stream",
     "text": [
      "/home/ubuntu/anaconda3/envs/pytorch_p36/lib/python3.6/site-packages/ipykernel/__main__.py:37: UserWarning: invalid index of a 0-dim tensor. This will be an error in PyTorch 0.5. Use tensor.item() to convert a 0-dim tensor to a Python number\n",
      "/home/ubuntu/anaconda3/envs/pytorch_p36/lib/python3.6/site-packages/ipykernel/__main__.py:41: UserWarning: invalid index of a 0-dim tensor. This will be an error in PyTorch 0.5. Use tensor.item() to convert a 0-dim tensor to a Python number\n",
      "/home/ubuntu/anaconda3/envs/pytorch_p36/lib/python3.6/site-packages/ipykernel/__main__.py:43: UserWarning: invalid index of a 0-dim tensor. This will be an error in PyTorch 0.5. Use tensor.item() to convert a 0-dim tensor to a Python number\n"
     ]
    },
    {
     "name": "stdout",
     "output_type": "stream",
     "text": [
      "epoch : 0 , loss : 0.03210810199379921\n",
      "epoch : 20 , loss : 0.027340231463313103\n",
      "epoch : 40 , loss : 0.02533813938498497\n",
      "epoch : 60 , loss : 0.024949541315436363\n",
      "epoch : 80 , loss : 0.024630920961499214\n"
     ]
    },
    {
     "data": {
      "image/png": "[encoded data removed]",
      "text/plain": [
       "<Figure size 432x288 with 1 Axes>"
      ]
     },
     "metadata": {},
     "output_type": "display_data"
    },
    {
     "name": "stdout",
     "output_type": "stream",
     "text": [
      "epoch : 0 , loss : 0.03185103461146355\n",
      "epoch : 20 , loss : 0.9300661683082581\n",
      "epoch : 40 , loss : 0.9575667977333069\n",
      "epoch : 60 , loss : 0.958686351776123\n",
      "epoch : 80 , loss : 0.9606229066848755\n"
     ]
    },
    {
     "data": {
      "image/png": "[encoded data removed]",
      "text/plain": [
       "<Figure size 432x288 with 1 Axes>"
      ]
     },
     "metadata": {},
     "output_type": "display_data"
    },
    {
     "data": {
      "text/plain": [
       "[[0.03185103461146355,\n",
       "  0.9300661683082581,\n",
       "  0.9575667977333069,\n",
       "  0.958686351776123,\n",
       "  0.9606229066848755],\n",
       " [1.0085572004318237,\n",
       "  0.961591899394989,\n",
       "  0.9723699688911438,\n",
       "  0.9734905362129211,\n",
       "  0.9702014327049255]]"
      ]
     },
     "execution_count": 104,
     "metadata": {},
     "output_type": "execute_result"
    }
   ],
   "source": [
    "net2 = Net2()\n",
    "train_and_test(net2,X,Y,epochs=100,batch_size=vec_size)\n",
    "net3 = Net3()\n",
    "train_and_test(net3,X,Y,epochs=100,batch_size=vec_size)"
   ]
  },
  {
   "cell_type": "code",
   "execution_count": 61,
   "metadata": {},
   "outputs": [],
   "source": [
    "class Net4(nn.Module):\n",
    "    def __init__(self):\n",
    "        super(Net4, self).__init__()\n",
    "        self.fc1 = nn.Linear(vec_size,1000)\n",
    "        self.fc2 = nn.Linear(1000,100)\n",
    "        self.fc3 = nn.Linear(100,3)\n",
    "        \n",
    "    def forward(self, x):\n",
    "        x = F.relu(self.fc1(x))\n",
    "        x = F.relu(self.fc2(x))\n",
    "        x = F.tanh(self.fc3(x))\n",
    "        return x\n",
    "    "
   ]
  },
  {
   "cell_type": "code",
   "execution_count": 62,
   "metadata": {},
   "outputs": [
    {
     "name": "stderr",
     "output_type": "stream",
     "text": [
      "/home/ubuntu/anaconda3/envs/pytorch_p36/lib/python3.6/site-packages/ipykernel/__main__.py:36: UserWarning: invalid index of a 0-dim tensor. This will be an error in PyTorch 0.5. Use tensor.item() to convert a 0-dim tensor to a Python number\n",
      "/home/ubuntu/anaconda3/envs/pytorch_p36/lib/python3.6/site-packages/ipykernel/__main__.py:40: UserWarning: invalid index of a 0-dim tensor. This will be an error in PyTorch 0.5. Use tensor.item() to convert a 0-dim tensor to a Python number\n",
      "/home/ubuntu/anaconda3/envs/pytorch_p36/lib/python3.6/site-packages/ipykernel/__main__.py:42: UserWarning: invalid index of a 0-dim tensor. This will be an error in PyTorch 0.5. Use tensor.item() to convert a 0-dim tensor to a Python number\n"
     ]
    },
    {
     "name": "stdout",
     "output_type": "stream",
     "text": [
      "epoch : 0 , loss : 0.03375084325671196\n",
      "epoch : 20 , loss : 1.0380572080612183\n",
      "epoch : 40 , loss : 1.0380572080612183\n",
      "epoch : 60 , loss : 1.0380572080612183\n",
      "epoch : 80 , loss : 1.0380572080612183\n"
     ]
    },
    {
     "data": {
      "image/png": "[encoded data removed]",
      "text/plain": [
       "<Figure size 432x288 with 1 Axes>"
      ]
     },
     "metadata": {},
     "output_type": "display_data"
    },
    {
     "data": {
      "text/plain": [
       "[[0.03375084325671196,\n",
       "  1.0380572080612183,\n",
       "  1.0380572080612183,\n",
       "  1.0380572080612183,\n",
       "  1.0380572080612183],\n",
       " [1.0430110692977905,\n",
       "  1.0430110692977905,\n",
       "  1.0430110692977905,\n",
       "  1.0430110692977905,\n",
       "  1.0430110692977905]]"
      ]
     },
     "execution_count": 62,
     "metadata": {},
     "output_type": "execute_result"
    }
   ],
   "source": [
    "net4 = Net4()\n",
    "train_and_test(net4,X,Y,epochs=100,batch_size=vec_size)"
   ]
  },
  {
   "cell_type": "code",
   "execution_count": 63,
   "metadata": {},
   "outputs": [
    {
     "name": "stderr",
     "output_type": "stream",
     "text": [
      "/home/ubuntu/anaconda3/envs/pytorch_p36/lib/python3.6/site-packages/ipykernel/__main__.py:36: UserWarning: invalid index of a 0-dim tensor. This will be an error in PyTorch 0.5. Use tensor.item() to convert a 0-dim tensor to a Python number\n",
      "/home/ubuntu/anaconda3/envs/pytorch_p36/lib/python3.6/site-packages/ipykernel/__main__.py:40: UserWarning: invalid index of a 0-dim tensor. This will be an error in PyTorch 0.5. Use tensor.item() to convert a 0-dim tensor to a Python number\n",
      "/home/ubuntu/anaconda3/envs/pytorch_p36/lib/python3.6/site-packages/ipykernel/__main__.py:42: UserWarning: invalid index of a 0-dim tensor. This will be an error in PyTorch 0.5. Use tensor.item() to convert a 0-dim tensor to a Python number\n"
     ]
    },
    {
     "name": "stdout",
     "output_type": "stream",
     "text": [
      "epoch : 0 , loss : 0.03497263044118881\n",
      "epoch : 20 , loss : 0.030298607423901558\n",
      "epoch : 40 , loss : 0.02820812165737152\n",
      "epoch : 60 , loss : 0.027370136231184006\n",
      "epoch : 80 , loss : 0.02573726326227188\n",
      "epoch : 100 , loss : 0.023480422794818878\n",
      "epoch : 120 , loss : 0.02257777377963066\n",
      "epoch : 140 , loss : 0.022138457745313644\n",
      "epoch : 160 , loss : 0.021906297653913498\n",
      "epoch : 180 , loss : 0.021726418286561966\n",
      "epoch : 200 , loss : 0.02165847457945347\n",
      "epoch : 220 , loss : 0.021617073565721512\n",
      "epoch : 240 , loss : 0.02158391661942005\n",
      "epoch : 260 , loss : 0.021561335772275925\n",
      "epoch : 280 , loss : 0.021543040871620178\n",
      "epoch : 300 , loss : 0.02153060771524906\n",
      "epoch : 320 , loss : 0.02150503545999527\n",
      "epoch : 340 , loss : 0.021508611738681793\n",
      "epoch : 360 , loss : 0.021493760868906975\n",
      "epoch : 380 , loss : 0.0214875265955925\n",
      "epoch : 400 , loss : 0.021508801728487015\n",
      "epoch : 420 , loss : 0.021467989310622215\n",
      "epoch : 440 , loss : 0.021464858204126358\n",
      "epoch : 460 , loss : 0.02146657183766365\n",
      "epoch : 480 , loss : 0.021465659141540527\n"
     ]
    },
    {
     "data": {
      "image/png": "[encoded data removed]",
      "text/plain": [
       "<Figure size 432x288 with 1 Axes>"
      ]
     },
     "metadata": {},
     "output_type": "display_data"
    },
    {
     "data": {
      "text/plain": [
       "[[0.03497263044118881,\n",
       "  0.030298607423901558,\n",
       "  0.02820812165737152,\n",
       "  0.027370136231184006,\n",
       "  0.02573726326227188,\n",
       "  0.023480422794818878,\n",
       "  0.02257777377963066,\n",
       "  0.022138457745313644,\n",
       "  0.021906297653913498,\n",
       "  0.021726418286561966,\n",
       "  0.02165847457945347,\n",
       "  0.021617073565721512,\n",
       "  0.02158391661942005,\n",
       "  0.021561335772275925,\n",
       "  0.021543040871620178,\n",
       "  0.02153060771524906,\n",
       "  0.02150503545999527,\n",
       "  0.021508611738681793,\n",
       "  0.021493760868906975,\n",
       "  0.0214875265955925,\n",
       "  0.021508801728487015,\n",
       "  0.021467989310622215,\n",
       "  0.021464858204126358,\n",
       "  0.02146657183766365,\n",
       "  0.021465659141540527],\n",
       " [0.863288164138794,\n",
       "  0.03438365086913109,\n",
       "  0.03218773379921913,\n",
       "  0.031977009028196335,\n",
       "  0.0313732773065567,\n",
       "  0.031655412167310715,\n",
       "  0.03259345144033432,\n",
       "  0.03334380313754082,\n",
       "  0.03391040489077568,\n",
       "  0.03433016315102577,\n",
       "  0.034933075308799744,\n",
       "  0.03514530509710312,\n",
       "  0.03535521402955055,\n",
       "  0.035557955503463745,\n",
       "  0.035658400505781174,\n",
       "  0.035841334611177444,\n",
       "  0.036000240594148636,\n",
       "  0.03620408475399017,\n",
       "  0.0363745242357254,\n",
       "  0.03646918386220932,\n",
       "  0.0364537239074707,\n",
       "  0.036735475063323975,\n",
       "  0.036728113889694214,\n",
       "  0.036768555641174316,\n",
       "  0.03680175915360451]]"
      ]
     },
     "execution_count": 63,
     "metadata": {},
     "output_type": "execute_result"
    }
   ],
   "source": [
    "net2 = Net2()\n",
    "train_and_test(net2,X,Y,epochs=500,batch_size=vec_size)"
   ]
  },
  {
   "cell_type": "code",
   "execution_count": 22,
   "metadata": {},
   "outputs": [],
   "source": [
    "def sentence_to_vad(s, model):\n",
    "    x = extract_word(s,debug=True)\n",
    "    x = torch.FloatTensor(x)\n",
    "    y_pred = model(x)\n",
    "    y_pred = y_pred.data.numpy()\n",
    "    res = {\n",
    "        'valence' : y_pred[0],\n",
    "        'arousal'  : y_pred[1],\n",
    "        'dominance' : y_pred[2]\n",
    "    }\n",
    "    return res"
   ]
  },
  {
   "cell_type": "code",
   "execution_count": 124,
   "metadata": {},
   "outputs": [
    {
     "name": "stdout",
     "output_type": "stream",
     "text": [
      "['very', 'happy', 'see']\n",
      "{'valence': -0.0006112146, 'arousal': 0.011943448, 'dominance': 0.032359146}\n",
      "['happy', 'happy', 'happy', 'happy', 'happy']\n",
      "{'valence': 0.43180105, 'arousal': 0.99452513, 'dominance': 0.64152306}\n",
      "['very', 'angry', 'fucking']\n",
      "{'valence': -0.0006112146, 'arousal': 0.011943448, 'dominance': 0.032359146}\n",
      "['fuck', 'fuck', 'fuck']\n",
      "{'valence': -0.9772021, 'arousal': 0.95645165, 'dominance': -0.9416526}\n"
     ]
    }
   ],
   "source": [
    "s = \"Im very happy to see you.\"\n",
    "print(sentence_to_vad(s,net2))\n",
    "s = \"happy happy happy happy happy\"\n",
    "print(sentence_to_vad(s,net2))\n",
    "s = \"Im very angry, fucking you\"\n",
    "print(sentence_to_vad(s,net2))\n",
    "s = \"fuck fuck fuck\"\n",
    "print(sentence_to_vad(s,net2))"
   ]
  },
  {
   "cell_type": "code",
   "execution_count": 23,
   "metadata": {},
   "outputs": [],
   "source": [
    "import re"
   ]
  },
  {
   "cell_type": "code",
   "execution_count": 31,
   "metadata": {},
   "outputs": [],
   "source": [
    "def make_word_vector(lb):\n",
    "    # lb以上の出現回数の言葉を数える\n",
    "    \n",
    "    p = re.compile(r'[A-Za-z][A-Za-z\\'0-9]*')\n",
    "    df = pd.read_table('./Emobank-master/corpus/raw.tsv')\n",
    "    tokens = []\n",
    "    for index, row in df.iterrows():\n",
    "        w_list = p.findall(row['sentence'])\n",
    "    #     w_list = nltk.word_tokenize(row['sentence'])\n",
    "        for w in w_list:\n",
    "            if wordnet.morphy(w) is not None:\n",
    "                word = wordnet.morphy(w)\n",
    "            else:\n",
    "                word = w\n",
    "            tokens.append(word)\n",
    "\n",
    "    # lowerにする,stopwordsを除く\n",
    "    stopwords = nltk.corpus.stopwords.words('english')\n",
    "    symbols = [\"'\", '\"', '`', '.', ',', '-', '!', '?', ':', ';', '(', ')']\n",
    "\n",
    "    lower_tokens = [w.lower() for w in tokens if w.lower() not in stopwords+symbols]\n",
    "\n",
    "\n",
    "    nltk_tokens = nltk.pos_tag(lower_tokens)\n",
    "\n",
    "    reg_tokens = []\n",
    "    for token in nltk_tokens:\n",
    "        if is_count(token[1]):\n",
    "            reg_tokens.append(token[0])\n",
    "\n",
    "    text = nltk.Text(reg_tokens)\n",
    "    clean_fdist = nltk.FreqDist(w for w in text)\n",
    "\n",
    "    extracted_word_list = [key for key,val in clean_fdist.items() if val >= lb]\n",
    "    return extracted_word_list"
   ]
  },
  {
   "cell_type": "code",
   "execution_count": 163,
   "metadata": {},
   "outputs": [
    {
     "data": {
      "text/plain": [
       "1942"
      ]
     },
     "execution_count": 163,
     "metadata": {},
     "output_type": "execute_result"
    }
   ],
   "source": [
    "word_vec_10 = make_word_vector(10)\n",
    "len(word_vec_10)"
   ]
  },
  {
   "cell_type": "code",
   "execution_count": 25,
   "metadata": {},
   "outputs": [],
   "source": [
    "def extract_word_from_word_vec (s,word_vec,debug=False):\n",
    "    res = np.zeros(len(word_vec))\n",
    "    word_list = nltk.word_tokenize(s)\n",
    "    if debug:\n",
    "        count_word = []\n",
    "    for w in word_list:\n",
    "        if wordnet.morphy(w) is not None:\n",
    "            word = wordnet.morphy(w)\n",
    "        else:\n",
    "            word = w\n",
    "        if w in word_vec:\n",
    "            # 単語が出現する\n",
    "            if debug:\n",
    "                count_word.append(word)\n",
    "            ind = word_vec.index(w)\n",
    "            res[ind] += 1\n",
    "    if debug:\n",
    "        print(count_word)\n",
    "    return res"
   ]
  },
  {
   "cell_type": "code",
   "execution_count": 33,
   "metadata": {},
   "outputs": [],
   "source": [
    "def make_dat_from_word_vec(word_vec):\n",
    "    data_vad = pd.read_table('./Emobank-master/corpus/reader.tsv')\n",
    "    # sentence<->vadのいずれかがないデータを消す\n",
    "    merged_data = pd.merge(df,data_vad,on='id')\n",
    "    X_orig = np.array([ extract_word_from_word_vec(row['sentence'],word_vec)\\\n",
    "                       for index,row in merged_data.iterrows()])\n",
    "    Y_a = merged_data['Arousal'].as_matrix()\n",
    "    Y_v = merged_data['Valence'].as_matrix()\n",
    "    Y_d = merged_data['Dominance'].as_matrix()\n",
    "    Y_orig = np.c_[Y_v,Y_a,Y_d]\n",
    "    a=1\n",
    "    b=5\n",
    "    Y_orig = (2*(Y_orig-a)/(b-a))-1\n",
    "    # [-1,1]で正規化\n",
    "    return X_orig,Y_orig"
   ]
  },
  {
   "cell_type": "code",
   "execution_count": null,
   "metadata": {},
   "outputs": [],
   "source": [
    "X,Y = make_dat_from_word_vec(word_vec_10)"
   ]
  },
  {
   "cell_type": "code",
   "execution_count": null,
   "metadata": {},
   "outputs": [],
   "source": [
    "vec_size_10 = len(word_vec_10)"
   ]
  },
  {
   "cell_type": "code",
   "execution_count": 27,
   "metadata": {},
   "outputs": [],
   "source": [
    "class Net4(nn.Module):\n",
    "    def __init__(self):\n",
    "        super(Net4, self).__init__()\n",
    "        self.fc1 = nn.Linear(vec_size_10,100)\n",
    "        self.fc2 = nn.Linear(100,3)\n",
    "        \n",
    "    def forward(self, x):\n",
    "        x = F.relu(self.fc1(x))\n",
    "        x = F.tanh(self.fc2(x))\n",
    "        return x"
   ]
  },
  {
   "cell_type": "code",
   "execution_count": 183,
   "metadata": {},
   "outputs": [
    {
     "name": "stderr",
     "output_type": "stream",
     "text": [
      "/home/ubuntu/anaconda3/envs/pytorch_p36/lib/python3.6/site-packages/ipykernel/__main__.py:37: UserWarning: invalid index of a 0-dim tensor. This will be an error in PyTorch 0.5. Use tensor.item() to convert a 0-dim tensor to a Python number\n",
      "/home/ubuntu/anaconda3/envs/pytorch_p36/lib/python3.6/site-packages/ipykernel/__main__.py:41: UserWarning: invalid index of a 0-dim tensor. This will be an error in PyTorch 0.5. Use tensor.item() to convert a 0-dim tensor to a Python number\n",
      "/home/ubuntu/anaconda3/envs/pytorch_p36/lib/python3.6/site-packages/ipykernel/__main__.py:43: UserWarning: invalid index of a 0-dim tensor. This will be an error in PyTorch 0.5. Use tensor.item() to convert a 0-dim tensor to a Python number\n"
     ]
    },
    {
     "name": "stdout",
     "output_type": "stream",
     "text": [
      "epoch : 0 , loss : 0.043375786393880844\n",
      "epoch : 20 , loss : 0.029551586136221886\n",
      "epoch : 40 , loss : 0.027289187535643578\n",
      "epoch : 60 , loss : 0.025073442608118057\n",
      "epoch : 80 , loss : 0.02696460299193859\n"
     ]
    },
    {
     "data": {
      "image/png": "[encoded data removed]",
      "text/plain": [
       "<Figure size 432x288 with 1 Axes>"
      ]
     },
     "metadata": {},
     "output_type": "display_data"
    }
   ],
   "source": [
    "net4 = Net4()\n",
    "net4 = train_and_test(net4,X,Y,epochs=100,batch_size=vec_size_10)"
   ]
  },
  {
   "cell_type": "code",
   "execution_count": 28,
   "metadata": {},
   "outputs": [],
   "source": [
    "def sentence_to_vad_from_word_vector(s, model,word_vec):\n",
    "    x = extract_word_from_word_vec(s,word_vec,debug=True)\n",
    "    x = torch.FloatTensor(x)\n",
    "    y_pred = model(x)\n",
    "    y_pred = y_pred.data.numpy()\n",
    "    res = {\n",
    "        'valence' : y_pred[0],\n",
    "        'arousal'  : y_pred[1],\n",
    "        'dominance' : y_pred[2]\n",
    "    }\n",
    "    return res"
   ]
  },
  {
   "cell_type": "code",
   "execution_count": null,
   "metadata": {},
   "outputs": [],
   "source": [
    "s = \"Im very happy to see you.\"\n",
    "print(sentence_to_vad_from_word_vector(s,net4,word_vec_10))\n",
    "s = \"happy happy happy happy happy\"\n",
    "print(sentence_to_vad_from_word_vector(s,net4,word_vec_10))\n",
    "s = \"Im very angry, fucking you\"\n",
    "print(sentence_to_vad_from_word_vector(s,net4,word_vec_10))\n",
    "s = \"fuck fuck fuck\"\n",
    "print(sentence_to_vad_from_word_vector(s,net4,word_vec_10))\n"
   ]
  },
  {
   "cell_type": "code",
   "execution_count": 29,
   "metadata": {},
   "outputs": [],
   "source": [
    "def sentences_to_vad(sentences,net,word_vec):\n",
    "    for s in sentences:\n",
    "        print(sentence_to_vad_from_word_vector(s,net,word_vec))"
   ]
  },
  {
   "cell_type": "code",
   "execution_count": null,
   "metadata": {},
   "outputs": [],
   "source": [
    "store_models = {}"
   ]
  },
  {
   "cell_type": "code",
   "execution_count": 34,
   "metadata": {},
   "outputs": [
    {
     "name": "stderr",
     "output_type": "stream",
     "text": [
      "/home/ubuntu/anaconda3/envs/pytorch_p36/lib/python3.6/site-packages/ipykernel/__main__.py:37: UserWarning: invalid index of a 0-dim tensor. This will be an error in PyTorch 0.5. Use tensor.item() to convert a 0-dim tensor to a Python number\n",
      "/home/ubuntu/anaconda3/envs/pytorch_p36/lib/python3.6/site-packages/ipykernel/__main__.py:41: UserWarning: invalid index of a 0-dim tensor. This will be an error in PyTorch 0.5. Use tensor.item() to convert a 0-dim tensor to a Python number\n",
      "/home/ubuntu/anaconda3/envs/pytorch_p36/lib/python3.6/site-packages/ipykernel/__main__.py:43: UserWarning: invalid index of a 0-dim tensor. This will be an error in PyTorch 0.5. Use tensor.item() to convert a 0-dim tensor to a Python number\n"
     ]
    },
    {
     "name": "stdout",
     "output_type": "stream",
     "text": [
      "epoch : 0 , loss : 0.03402981534600258\n",
      "epoch : 20 , loss : 0.02419661357998848\n",
      "epoch : 40 , loss : 0.02176523581147194\n",
      "epoch : 60 , loss : 0.02120327018201351\n",
      "epoch : 80 , loss : 0.020992359146475792\n",
      "epoch : 100 , loss : 0.020721953362226486\n",
      "epoch : 120 , loss : 0.020590221509337425\n",
      "epoch : 140 , loss : 0.020376024767756462\n",
      "epoch : 160 , loss : 0.020260140299797058\n",
      "epoch : 180 , loss : 0.020172081887722015\n"
     ]
    },
    {
     "data": {
      "image/png": "[encoded data removed]",
      "text/plain": [
       "<Figure size 432x288 with 1 Axes>"
      ]
     },
     "metadata": {},
     "output_type": "display_data"
    },
    {
     "name": "stdout",
     "output_type": "stream",
     "text": [
      "select_lower_bound = 1\n",
      "['happy', 'see']\n",
      "{'valence': -0.005538596, 'arousal': -0.0015600768, 'dominance': 0.031416606}\n",
      "['happy', 'happy', 'happy', 'happy', 'happy']\n",
      "{'valence': 0.98607874, 'arousal': 0.80336744, 'dominance': 0.7414084}\n",
      "['fine', 'thank']\n",
      "{'valence': -0.005538596, 'arousal': -0.0015600768, 'dominance': 0.031416606}\n",
      "['sad', 'angry', 'rain']\n",
      "{'valence': -0.7533466, 'arousal': 0.20827648, 'dominance': -0.44684154}\n"
     ]
    },
    {
     "ename": "NameError",
     "evalue": "name 'store_models' is not defined",
     "output_type": "error",
     "traceback": [
      "\u001b[0;31m---------------------------------------------------------------------------\u001b[0m",
      "\u001b[0;31mNameError\u001b[0m                                 Traceback (most recent call last)",
      "\u001b[0;32m<ipython-input-34-7e45c37b95f7>\u001b[0m in \u001b[0;36m<module>\u001b[0;34m()\u001b[0m\n\u001b[1;32m     30\u001b[0m     \u001b[0msentences_to_vad\u001b[0m\u001b[0;34m(\u001b[0m\u001b[0msentences\u001b[0m\u001b[0;34m,\u001b[0m\u001b[0ms_net\u001b[0m\u001b[0;34m,\u001b[0m\u001b[0mselected_word_vec\u001b[0m\u001b[0;34m)\u001b[0m\u001b[0;34m\u001b[0m\u001b[0m\n\u001b[1;32m     31\u001b[0m \u001b[0;34m\u001b[0m\u001b[0m\n\u001b[0;32m---> 32\u001b[0;31m     store_models.update({\n\u001b[0m\u001b[1;32m     33\u001b[0m         \u001b[0mlb\u001b[0m \u001b[0;34m:\u001b[0m \u001b[0ms_net\u001b[0m\u001b[0;34m\u001b[0m\u001b[0m\n\u001b[1;32m     34\u001b[0m     })\n",
      "\u001b[0;31mNameError\u001b[0m: name 'store_models' is not defined"
     ]
    }
   ],
   "source": [
    "attempts = [1,2,3,4,5,7,10]\n",
    "sentences = [\n",
    "    \"Im very happy and excited to see you.\",\n",
    "    \"happy happy happy happy happy\",\n",
    "    \"Im fine thank you\",\n",
    "    \"sad angry rain \"\n",
    "]\n",
    "\n",
    "for i in attempts:\n",
    "    lb = i\n",
    "    selected_word_vec = make_word_vector(lb)\n",
    "    selected_vec_size = len(selected_word_vec)\n",
    "    X,Y = make_dat_from_word_vec(selected_word_vec)\n",
    "\n",
    "    class SelectedNet(nn.Module):\n",
    "        def __init__(self):\n",
    "            super(SelectedNet, self).__init__()\n",
    "            self.fc1 = nn.Linear(selected_vec_size,100)\n",
    "            self.fc2 = nn.Linear(100,3)\n",
    "\n",
    "        def forward(self, x):\n",
    "            x = F.relu(self.fc1(x))\n",
    "            x = F.tanh(self.fc2(x))\n",
    "            return x\n",
    "\n",
    "    s_net = SelectedNet()\n",
    "    s_net = train_and_test(s_net,X,Y,epochs=200,batch_size=selected_vec_size)\n",
    "    \n",
    "    print(\"select_lower_bound = {0}\".format(lb ))\n",
    "    sentences_to_vad(sentences,s_net,selected_word_vec)\n",
    "    \n",
    "    store_models.update({\n",
    "        lb : s_net\n",
    "    })"
   ]
  },
  {
   "cell_type": "code",
   "execution_count": null,
   "metadata": {},
   "outputs": [],
   "source": []
  }
 ],
 "metadata": {
  "kernelspec": {
   "display_name": "Environment (conda_pytorch_p36)",
   "language": "python",
   "name": "conda_pytorch_p36"
  },
  "language_info": {
   "codemirror_mode": {
    "name": "ipython",
    "version": 3
   },
   "file_extension": ".py",
   "mimetype": "text/x-python",
   "name": "python",
   "nbconvert_exporter": "python",
   "pygments_lexer": "ipython3",
   "version": "3.6.5"
  }
 },
 "nbformat": 4,
 "nbformat_minor": 2
}
