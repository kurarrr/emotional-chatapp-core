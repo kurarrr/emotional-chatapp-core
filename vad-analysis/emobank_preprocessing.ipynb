{
 "cells": [
  {
   "cell_type": "code",
   "execution_count": 2,
   "metadata": {},
   "outputs": [
    {
     "name": "stderr",
     "output_type": "stream",
     "text": [
      "/home/ubuntu/anaconda3/envs/pytorch_p36/lib/python3.6/site-packages/matplotlib/__init__.py:1067: UserWarning: Duplicate key in file \"/home/ubuntu/.config/matplotlib/matplotlibrc\", line #2\n",
      "  (fname, cnt))\n",
      "/home/ubuntu/anaconda3/envs/pytorch_p36/lib/python3.6/site-packages/matplotlib/__init__.py:1067: UserWarning: Duplicate key in file \"/home/ubuntu/.config/matplotlib/matplotlibrc\", line #3\n",
      "  (fname, cnt))\n"
     ]
    }
   ],
   "source": [
    "import numpy as np\n",
    "import pandas as pd\n",
    "import re\n",
    "\n",
    "from sklearn import datasets\n",
    "from sklearn.model_selection import train_test_split\n",
    "from sklearn.utils import shuffle\n",
    "\n",
    "from nltk.corpus import wordnet"
   ]
  },
  {
   "cell_type": "code",
   "execution_count": 3,
   "metadata": {},
   "outputs": [
    {
     "name": "stdout",
     "output_type": "stream",
     "text": [
      "10358 10325 10142\n"
     ]
    }
   ],
   "source": [
    "# dataのload\n",
    "data_sentence = pd.read_table('./Emobank-master/corpus/raw.tsv')\n",
    "data_vad = pd.read_table('./Emobank-master/corpus/reader.tsv')\n",
    "data_merged = pd.merge(data_sentence,data_vad,on='id')\n",
    "print(len(data_sentence),len(data_vad),len(data_merged))"
   ]
  },
  {
   "cell_type": "code",
   "execution_count": 4,
   "metadata": {},
   "outputs": [],
   "source": [
    "ser = data_merged['sentence']\n",
    "\n",
    "# 数字を全て0に\n",
    "p_num = re.compile(r'[0-9]+')\n",
    "ser = ser.apply(lambda x:p_num.sub(\"0\",x))\n",
    "\n",
    "# urlをremove \n",
    "p_url = re.compile(r'http[a-zA-Z0-9\\!\\#\\$\\%\\&\\'\\*\\+\\-\\.\\^_\\`\\|\\~\\:]*')\n",
    "ser = ser.apply(lambda x:p_url.sub(\" \",x))\n",
    "\n",
    "# replace .,! -> \\s\n",
    "ser = ser.apply(lambda x: x.replace(\".\",\" \").replace(\",\",\" \").replace(\"!\",\" \"))\n",
    "\n",
    "# lowerに\n",
    "ser = ser.apply(lambda x:x.lower())\n",
    "\n",
    "data_preprocessed = data_merged.assign(\n",
    "    reg = ser\n",
    ")\n"
   ]
  },
  {
   "cell_type": "code",
   "execution_count": 5,
   "metadata": {
    "scrolled": true
   },
   "outputs": [],
   "source": [
    "from nltk import word_tokenize\n",
    "# sent = \"This is my text, this is a nice way  to input text. I'm angry\"\n",
    "# word_tokenize(sent)\n",
    "data_preprocessed = data_preprocessed.assign(\n",
    "    words = data_preprocessed.apply(lambda x: len(word_tokenize(x['reg'])), axis=1)\n",
    ")"
   ]
  },
  {
   "cell_type": "code",
   "execution_count": 6,
   "metadata": {},
   "outputs": [],
   "source": [
    "data_preprocessed.to_csv('data_preprocessed.csv')"
   ]
  },
  {
   "cell_type": "code",
   "execution_count": null,
   "metadata": {},
   "outputs": [],
   "source": []
  }
 ],
 "metadata": {
  "kernelspec": {
   "display_name": "Environment (conda_pytorch_p36)",
   "language": "python",
   "name": "conda_pytorch_p36"
  },
  "language_info": {
   "codemirror_mode": {
    "name": "ipython",
    "version": 3
   },
   "file_extension": ".py",
   "mimetype": "text/x-python",
   "name": "python",
   "nbconvert_exporter": "python",
   "pygments_lexer": "ipython3",
   "version": "3.6.5"
  }
 },
 "nbformat": 4,
 "nbformat_minor": 2
}
